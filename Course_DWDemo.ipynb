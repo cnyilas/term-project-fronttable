{
 "cells": [
  {
   "cell_type": "code",
   "execution_count": 3,
   "metadata": {},
   "outputs": [
    {
     "name": "stdout",
     "output_type": "stream",
     "text": [
      "The sql extension is already loaded. To reload it, use:\n",
      "  %reload_ext sql\n"
     ]
    }
   ],
   "source": [
    "# Load in SQL, Pandas and SQLite\n",
    "\n",
    "%load_ext sql\n",
    "\n",
    "import pandas as pd\n",
    "import sqlite3"
   ]
  },
  {
   "cell_type": "code",
   "execution_count": 4,
   "metadata": {},
   "outputs": [],
   "source": [
    "%sql sqlite:///CourseData.db \n",
    "conn = sqlite3.connect('CourseData.db')"
   ]
  },
  {
   "cell_type": "code",
   "execution_count": 5,
   "metadata": {},
   "outputs": [
    {
     "name": "stdout",
     "output_type": "stream",
     "text": [
      " * sqlite:///CourseData.db\n",
      "Done.\n"
     ]
    },
    {
     "data": {
      "text/html": [
       "<table>\n",
       "    <tr>\n",
       "        <th>CatalogID</th>\n",
       "        <th>CourseID</th>\n",
       "        <th>ProgramID</th>\n",
       "        <th>CourseTitle</th>\n",
       "        <th>Description</th>\n",
       "        <th>Attributes</th>\n",
       "        <th>Coreqs</th>\n",
       "        <th>Prereqs</th>\n",
       "        <th>Fees</th>\n",
       "        <th>Credits</th>\n",
       "    </tr>\n",
       "    <tr>\n",
       "        <td>AC 0011</td>\n",
       "        <td>1</td>\n",
       "        <td>2</td>\n",
       "        <td>Introduction to Financial Accounting</td>\n",
       "        <td>This course introduces students to financial accounting. Students learn to read and comprehend published financial statements and are introduced to the financial reporting process. Topics include financial statement analysis; accrual accounting; revenue and expense recognition; and accounting for assets, liabilities, and equities.</td>\n",
       "        <td>None</td>\n",
       "        <td>None</td>\n",
       "        <td>None</td>\n",
       "        <td>None</td>\n",
       "        <td>3</td>\n",
       "    </tr>\n",
       "    <tr>\n",
       "        <td>AC 0012</td>\n",
       "        <td>2</td>\n",
       "        <td>2</td>\n",
       "        <td>Introduction to Management Accounting</td>\n",
       "        <td>This course introduces students to managerial accounting and the role of accounting information in managerial decision-making. Topics include a description of basic cost elements; the interrelationship between fixed costs, variable costs, and profit; and methods of accumulating the costs associated with producing products and providing services (e.g., activity-based costing), so that students can make recommendations about performance evaluation, project evaluation and other management decisions.</td>\n",
       "        <td>None</td>\n",
       "        <td>None</td>\n",
       "        <td>AC 0011.</td>\n",
       "        <td>None</td>\n",
       "        <td>3</td>\n",
       "    </tr>\n",
       "    <tr>\n",
       "        <td>AC 0203</td>\n",
       "        <td>3</td>\n",
       "        <td>2</td>\n",
       "        <td>Intermediate Accounting I</td>\n",
       "        <td>This course provides an in-depth study of financial accounting theory and concepts, and the presentation of financial statements in conformity with Generally Accepted Accounting Principles (GAAP). The course emphasizes balance sheet valuations and their relationship to income measurement and determination.</td>\n",
       "        <td>None</td>\n",
       "        <td>None</td>\n",
       "        <td>AC 0011.</td>\n",
       "        <td>None</td>\n",
       "        <td>3</td>\n",
       "    </tr>\n",
       "    <tr>\n",
       "        <td>AC 0204</td>\n",
       "        <td>4</td>\n",
       "        <td>2</td>\n",
       "        <td>Intermediate Accounting II</td>\n",
       "        <td>This course continues the in-depth study of financial accounting theory and concepts, and the presentation of financial statements in conformity with Generally Accepted Accounting Principles (GAAP) begun in </td>\n",
       "        <td>None</td>\n",
       "        <td>None</td>\n",
       "        <td>AC 0203.</td>\n",
       "        <td>None</td>\n",
       "        <td>3</td>\n",
       "    </tr>\n",
       "    <tr>\n",
       "        <td>AC 0310</td>\n",
       "        <td>5</td>\n",
       "        <td>2</td>\n",
       "        <td>Advanced Accounting</td>\n",
       "        <td>This course focuses on accounting for various financial investments, including financial instruments, derivatives, and business combinations. Students also study the role of financial instruments in hedging foreign currency exposures and the complications encountered in financial reporting in a global environment.</td>\n",
       "        <td>None</td>\n",
       "        <td>None</td>\n",
       "        <td>AC 0204; junior or senior standing.</td>\n",
       "        <td>None</td>\n",
       "        <td>3</td>\n",
       "    </tr>\n",
       "</table>"
      ],
      "text/plain": [
       "[('AC 0011', 1, 2, 'Introduction to Financial Accounting', 'This course introduces students to financial accounting. Students learn to read and comprehend published financial statements and are introduced to t ... (34 characters truncated) ... pics include financial statement analysis; accrual accounting; revenue and expense recognition; and accounting for assets, liabilities, and equities.', None, None, None, None, 3),\n",
       " ('AC 0012', 2, 2, 'Introduction to Management Accounting', 'This course introduces students to managerial accounting and the role of accounting information in managerial decision-making. Topics include a descr ... (203 characters truncated) ... , activity-based costing), so that students can make recommendations about performance evaluation, project evaluation and other management decisions.', None, None, 'AC 0011.', None, 3),\n",
       " ('AC 0203', 3, 2, 'Intermediate Accounting I', 'This course provides an in-depth study of financial accounting theory and concepts, and the presentation of financial statements in conformity with G ... (9 characters truncated) ... Accepted Accounting Principles (GAAP). The course emphasizes balance sheet valuations and their relationship to income measurement and determination.', None, None, 'AC 0011.', None, 3),\n",
       " ('AC 0204', 4, 2, 'Intermediate Accounting II', 'This course continues the in-depth study of financial accounting theory and concepts, and the presentation of financial statements in conformity with Generally Accepted Accounting Principles (GAAP) begun in ', None, None, 'AC 0203.', None, 3),\n",
       " ('AC 0310', 5, 2, 'Advanced Accounting', 'This course focuses on accounting for various financial investments, including financial instruments, derivatives, and business combinations. Student ... (17 characters truncated) ... role of financial instruments in hedging foreign currency exposures and the complications encountered in financial reporting in a global environment.', None, None, 'AC 0204; junior or senior standing.', None, 3)]"
      ]
     },
     "execution_count": 5,
     "metadata": {},
     "output_type": "execute_result"
    }
   ],
   "source": [
    "%%sql\n",
    "\n",
    "--TEST\n",
    "\n",
    "SELECT *\n",
    "FROM COURSE\n",
    "LIMIT 5;"
   ]
  },
  {
   "cell_type": "markdown",
   "metadata": {},
   "source": [
    "# 6) Queries Run on Data\n"
   ]
  },
  {
   "cell_type": "code",
   "execution_count": 6,
   "metadata": {},
   "outputs": [
    {
     "name": "stdout",
     "output_type": "stream",
     "text": [
      " * sqlite:///CourseData.db\n",
      "Done.\n"
     ]
    },
    {
     "data": {
      "text/html": [
       "<table>\n",
       "    <tr>\n",
       "        <th>Max(Act)</th>\n",
       "        <th>CourseTitle</th>\n",
       "        <th>CatalogID</th>\n",
       "    </tr>\n",
       "    <tr>\n",
       "        <td>90</td>\n",
       "        <td>Fundamentals of Nursing Care</td>\n",
       "        <td>NS 0307</td>\n",
       "    </tr>\n",
       "</table>"
      ],
      "text/plain": [
       "[(90, 'Fundamentals of Nursing Care', 'NS 0307')]"
      ]
     },
     "execution_count": 6,
     "metadata": {},
     "output_type": "execute_result"
    }
   ],
   "source": [
    "%%sql\n",
    "\n",
    "-- What was the biggest class enrollment out all Semesters from Fall 2014 to Winter 2018?\n",
    "\n",
    "SELECT Max(Act), CourseTitle, CatalogID\n",
    "FROM COURSE_OFFERING;"
   ]
  },
  {
   "cell_type": "code",
   "execution_count": 17,
   "metadata": {},
   "outputs": [
    {
     "name": "stdout",
     "output_type": "stream",
     "text": [
      " * sqlite:///CourseData.db\n",
      "Done.\n"
     ]
    },
    {
     "data": {
      "text/html": [
       "<table>\n",
       "    <tr>\n",
       "        <th>Attributes</th>\n",
       "        <th>CourseTitle</th>\n",
       "        <th>CatalogID</th>\n",
       "    </tr>\n",
       "    <tr>\n",
       "        <td>WDIV World Diversity</td>\n",
       "        <td>Introduction to Four-Field Anthropology</td>\n",
       "        <td>AY 0010</td>\n",
       "    </tr>\n",
       "    <tr>\n",
       "        <td>WDIV World Diversity</td>\n",
       "        <td>Cultural Anthropology</td>\n",
       "        <td>AY 0111</td>\n",
       "    </tr>\n",
       "    <tr>\n",
       "        <td>BSFC Black Studies Focus Course, BSSS Black Studies: Social and Behavioral Sciences, WDIV World Diversity</td>\n",
       "        <td>Cultures of Africa</td>\n",
       "        <td>AY 0130</td>\n",
       "    </tr>\n",
       "    <tr>\n",
       "        <td>WDIV World Diversity</td>\n",
       "        <td>Islamic Societies and Cultures</td>\n",
       "        <td>AY 0152</td>\n",
       "    </tr>\n",
       "    <tr>\n",
       "        <td>HACA Humanitarian Action Minor Context Course, WDIV World Diversity</td>\n",
       "        <td>Ethical Dimensions of Global Business Practices</td>\n",
       "        <td>AE 0276</td>\n",
       "    </tr>\n",
       "</table>"
      ],
      "text/plain": [
       "[('WDIV World Diversity', 'Introduction to Four-Field Anthropology', 'AY 0010'),\n",
       " ('WDIV World Diversity', 'Cultural Anthropology', 'AY 0111'),\n",
       " ('BSFC Black Studies Focus Course, BSSS Black Studies: Social and Behavioral Sciences, WDIV World Diversity', 'Cultures of Africa', 'AY 0130'),\n",
       " ('WDIV World Diversity', 'Islamic Societies and Cultures', 'AY 0152'),\n",
       " ('HACA Humanitarian Action Minor Context Course, WDIV World Diversity', 'Ethical Dimensions of Global Business Practices', 'AE 0276')]"
      ]
     },
     "execution_count": 17,
     "metadata": {},
     "output_type": "execute_result"
    }
   ],
   "source": [
    "%%sql\n",
    "\n",
    "-- What are all the World Diversity Courses from Fall 2014 to Winter 2018? \n",
    "\n",
    "SELECT Attributes, CourseTitle, CatalogID\n",
    "FROM COURSE\n",
    "WHERE Attributes LIKE '%WDIV%'\n",
    "LIMIT 5;"
   ]
  },
  {
   "cell_type": "code",
   "execution_count": 21,
   "metadata": {},
   "outputs": [
    {
     "name": "stdout",
     "output_type": "stream",
     "text": [
      " * sqlite:///CourseData.db\n",
      "Done.\n"
     ]
    },
    {
     "data": {
      "text/html": [
       "<table>\n",
       "    <tr>\n",
       "        <th>AVG(Act)</th>\n",
       "        <th>CourseTitle</th>\n",
       "        <th>CatalogID</th>\n",
       "    </tr>\n",
       "    <tr>\n",
       "        <td>32.0</td>\n",
       "        <td>Business Analytics</td>\n",
       "        <td>BA 0500</td>\n",
       "    </tr>\n",
       "    <tr>\n",
       "        <td>5.0</td>\n",
       "        <td>Business Analytics and Big Data Management</td>\n",
       "        <td>IS 0550</td>\n",
       "    </tr>\n",
       "    <tr>\n",
       "        <td>9.173913043478262</td>\n",
       "        <td>Business Analytics and Big Data Mgmt</td>\n",
       "        <td>IS 0550</td>\n",
       "    </tr>\n",
       "    <tr>\n",
       "        <td>24.0</td>\n",
       "        <td>Business Analytics with Spreadsheets</td>\n",
       "        <td>IS 0210</td>\n",
       "    </tr>\n",
       "    <tr>\n",
       "        <td>21.0</td>\n",
       "        <td>Business Forecasting and Predictive Analytics</td>\n",
       "        <td>QA 0500</td>\n",
       "    </tr>\n",
       "    <tr>\n",
       "        <td>1.0</td>\n",
       "        <td>Contemporary Topics: Business Analytics with Spreadsheets</td>\n",
       "        <td>IS 0585</td>\n",
       "    </tr>\n",
       "    <tr>\n",
       "        <td>15.0</td>\n",
       "        <td>Contemporary Topics: Database Systems for Business Analytics</td>\n",
       "        <td>IS 0585C</td>\n",
       "    </tr>\n",
       "    <tr>\n",
       "        <td>11.0</td>\n",
       "        <td>Contemporary Topics: Retail Analytics</td>\n",
       "        <td>MK 0585</td>\n",
       "    </tr>\n",
       "    <tr>\n",
       "        <td>25.57894736842105</td>\n",
       "        <td>Databases for Business Analytics</td>\n",
       "        <td>IS 0510</td>\n",
       "    </tr>\n",
       "    <tr>\n",
       "        <td>20.293650793650794</td>\n",
       "        <td>Fundamentals of Business Analytics</td>\n",
       "        <td>IS 0210</td>\n",
       "    </tr>\n",
       "    <tr>\n",
       "        <td>16.0</td>\n",
       "        <td>Introduction to Business Analytics</td>\n",
       "        <td>OM 0500</td>\n",
       "    </tr>\n",
       "    <tr>\n",
       "        <td>20.0</td>\n",
       "        <td>Principles of Business Analytics</td>\n",
       "        <td>OM 0400</td>\n",
       "    </tr>\n",
       "    <tr>\n",
       "        <td>10.0</td>\n",
       "        <td>Python Apps for Busn Analytics</td>\n",
       "        <td>IS 0235</td>\n",
       "    </tr>\n",
       "    <tr>\n",
       "        <td>27.375</td>\n",
       "        <td>Python for Business Analytics</td>\n",
       "        <td>IS 0505</td>\n",
       "    </tr>\n",
       "    <tr>\n",
       "        <td>11.0</td>\n",
       "        <td>Visual Analytics</td>\n",
       "        <td>CS 0320</td>\n",
       "    </tr>\n",
       "</table>"
      ],
      "text/plain": [
       "[(32.0, 'Business Analytics', 'BA 0500'),\n",
       " (5.0, 'Business Analytics and Big Data Management', 'IS 0550'),\n",
       " (9.173913043478262, 'Business Analytics and Big Data Mgmt', 'IS 0550'),\n",
       " (24.0, 'Business Analytics with Spreadsheets', 'IS 0210'),\n",
       " (21.0, 'Business Forecasting and Predictive Analytics', 'QA 0500'),\n",
       " (1.0, 'Contemporary Topics: Business Analytics with Spreadsheets', 'IS 0585'),\n",
       " (15.0, 'Contemporary Topics: Database Systems for Business Analytics', 'IS 0585C'),\n",
       " (11.0, 'Contemporary Topics: Retail Analytics', 'MK 0585'),\n",
       " (25.57894736842105, 'Databases for Business Analytics', 'IS 0510'),\n",
       " (20.293650793650794, 'Fundamentals of Business Analytics', 'IS 0210'),\n",
       " (16.0, 'Introduction to Business Analytics', 'OM 0500'),\n",
       " (20.0, 'Principles of Business Analytics', 'OM 0400'),\n",
       " (10.0, 'Python Apps for Busn Analytics', 'IS 0235'),\n",
       " (27.375, 'Python for Business Analytics', 'IS 0505'),\n",
       " (11.0, 'Visual Analytics', 'CS 0320')]"
      ]
     },
     "execution_count": 21,
     "metadata": {},
     "output_type": "execute_result"
    }
   ],
   "source": [
    "%%sql\n",
    "-- What is the average class size for Business Analytics Courses? \n",
    "\n",
    "SELECT AVG(Act), CourseTitle, CatalogID\n",
    "FROM COURSE_OFFERING \n",
    "WHERE CourseTitle LIKE '%Analytics%'\n",
    "GROUP BY CourseTitle;\n"
   ]
  },
  {
   "cell_type": "code",
   "execution_count": 29,
   "metadata": {},
   "outputs": [
    {
     "name": "stdout",
     "output_type": "stream",
     "text": [
      " * sqlite:///CourseData.db\n",
      "Done.\n"
     ]
    },
    {
     "data": {
      "text/html": [
       "<table>\n",
       "    <tr>\n",
       "        <th>Location</th>\n",
       "        <th>Number_Of_Classes</th>\n",
       "    </tr>\n",
       "    <tr>\n",
       "        <td>CNS 101</td>\n",
       "        <td>134</td>\n",
       "    </tr>\n",
       "    <tr>\n",
       "        <td>CNS 9</td>\n",
       "        <td>126</td>\n",
       "    </tr>\n",
       "    <tr>\n",
       "        <td>CNS 10</td>\n",
       "        <td>123</td>\n",
       "    </tr>\n",
       "    <tr>\n",
       "        <td>BNW 341</td>\n",
       "        <td>121</td>\n",
       "    </tr>\n",
       "    <tr>\n",
       "        <td>CNS 203</td>\n",
       "        <td>120</td>\n",
       "    </tr>\n",
       "    <tr>\n",
       "        <td>CNS 108</td>\n",
       "        <td>117</td>\n",
       "    </tr>\n",
       "    <tr>\n",
       "        <td>BNW 127</td>\n",
       "        <td>115</td>\n",
       "    </tr>\n",
       "    <tr>\n",
       "        <td>CNS 208</td>\n",
       "        <td>112</td>\n",
       "    </tr>\n",
       "    <tr>\n",
       "        <td>CNS 104</td>\n",
       "        <td>109</td>\n",
       "    </tr>\n",
       "    <tr>\n",
       "        <td>BNW 333</td>\n",
       "        <td>108</td>\n",
       "    </tr>\n",
       "</table>"
      ],
      "text/plain": [
       "[('CNS 101', 134),\n",
       " ('CNS 9', 126),\n",
       " ('CNS 10', 123),\n",
       " ('BNW 341', 121),\n",
       " ('CNS 203', 120),\n",
       " ('CNS 108', 117),\n",
       " ('BNW 127', 115),\n",
       " ('CNS 208', 112),\n",
       " ('CNS 104', 109),\n",
       " ('BNW 333', 108)]"
      ]
     },
     "execution_count": 29,
     "metadata": {},
     "output_type": "execute_result"
    }
   ],
   "source": [
    "%%sql \n",
    "\n",
    "-- What classroom had the most classes held?\n",
    "\n",
    "SELECT Location, COUNT(DISTINCT CatalogID) AS Number_Of_Classes\n",
    "FROM COURSE_MEETING\n",
    "GROUP BY Location\n",
    "ORDER BY Number_Of_Classes DESC\n",
    "LIMIT 10;"
   ]
  },
  {
   "cell_type": "code",
   "execution_count": null,
   "metadata": {},
   "outputs": [],
   "source": []
  },
  {
   "cell_type": "code",
   "execution_count": 30,
   "metadata": {},
   "outputs": [
    {
     "name": "stdout",
     "output_type": "stream",
     "text": [
      " * sqlite:///CourseData.db\n",
      "Done.\n"
     ]
    },
    {
     "data": {
      "text/plain": [
       "[]"
      ]
     },
     "execution_count": 30,
     "metadata": {},
     "output_type": "execute_result"
    }
   ],
   "source": [
    "%%sql\n",
    "\n",
    "Vacuum;"
   ]
  },
  {
   "cell_type": "code",
   "execution_count": null,
   "metadata": {},
   "outputs": [],
   "source": []
  }
 ],
 "metadata": {
  "kernelspec": {
   "display_name": "Python 3",
   "language": "python",
   "name": "python3"
  },
  "language_info": {
   "codemirror_mode": {
    "name": "ipython",
    "version": 3
   },
   "file_extension": ".py",
   "mimetype": "text/x-python",
   "name": "python",
   "nbconvert_exporter": "python",
   "pygments_lexer": "ipython3",
   "version": "3.6.7"
  }
 },
 "nbformat": 4,
 "nbformat_minor": 4
}
