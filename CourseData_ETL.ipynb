{
 "cells": [
  {
   "cell_type": "markdown",
   "metadata": {},
   "source": [
    "# Team Frontable \n"
   ]
  },
  {
   "cell_type": "code",
   "execution_count": 1,
   "metadata": {},
   "outputs": [],
   "source": [
    "# Load in SQL, Pandas and SQLite\n",
    "\n",
    "%load_ext sql\n",
    "\n",
    "import pandas as pd\n",
    "import sqlite3"
   ]
  },
  {
   "cell_type": "code",
   "execution_count": 2,
   "metadata": {},
   "outputs": [],
   "source": [
    "%sql sqlite:///CourseData.db \n",
    "conn = sqlite3.connect('CourseData.db')"
   ]
  },
  {
   "cell_type": "markdown",
   "metadata": {},
   "source": [
    "# 1) Table Creation\n",
    "##  A) Create LOCATION Table\n"
   ]
  },
  {
   "cell_type": "code",
   "execution_count": 3,
   "metadata": {},
   "outputs": [
    {
     "name": "stdout",
     "output_type": "stream",
     "text": [
      " * sqlite:///CourseData.db\n",
      "Done.\n",
      "Done.\n"
     ]
    },
    {
     "data": {
      "text/plain": [
       "[]"
      ]
     },
     "execution_count": 3,
     "metadata": {},
     "output_type": "execute_result"
    }
   ],
   "source": [
    "\n",
    "\n",
    "%%sql\n",
    "\n",
    "DROP TABLE IF EXISTS LOCATION;\n",
    "CREATE TABLE LOCATION (\n",
    "    LocationID INTEGER PRIMARY KEY,\n",
    "    Location_Code TEXT,\n",
    "    Building TEXT,\n",
    "    Room TEXT\n",
    ");\n"
   ]
  },
  {
   "cell_type": "markdown",
   "metadata": {},
   "source": [
    "## B) INSTRUCTOR Table"
   ]
  },
  {
   "cell_type": "code",
   "execution_count": 4,
   "metadata": {},
   "outputs": [
    {
     "name": "stdout",
     "output_type": "stream",
     "text": [
      " * sqlite:///CourseData.db\n",
      "Done.\n",
      "Done.\n"
     ]
    },
    {
     "data": {
      "text/plain": [
       "[]"
      ]
     },
     "execution_count": 4,
     "metadata": {},
     "output_type": "execute_result"
    }
   ],
   "source": [
    "\n",
    "\n",
    "%%sql\n",
    "\n",
    "DROP TABLE IF EXISTS INSTRUCTOR;\n",
    "CREATE TABLE INSTRUCTOR (\n",
    "    InstructorID INTEGER PRIMARY KEY,\n",
    "    InstructorName TEXT \n",
    ");"
   ]
  },
  {
   "cell_type": "markdown",
   "metadata": {},
   "source": [
    "## C) PROGRAM Table"
   ]
  },
  {
   "cell_type": "code",
   "execution_count": 5,
   "metadata": {},
   "outputs": [
    {
     "name": "stdout",
     "output_type": "stream",
     "text": [
      " * sqlite:///CourseData.db\n",
      "Done.\n",
      "Done.\n"
     ]
    },
    {
     "data": {
      "text/plain": [
       "[]"
      ]
     },
     "execution_count": 5,
     "metadata": {},
     "output_type": "execute_result"
    }
   ],
   "source": [
    "\n",
    "\n",
    "%%sql\n",
    "\n",
    "DROP TABLE IF EXISTS PROGRAM;\n",
    "CREATE TABLE PROGRAM (\n",
    "    ProgramID INTEGER PRIMARY KEY,\n",
    "    ProgramCode TEXT,\n",
    "    ProgramName TEXT\n",
    ");"
   ]
  },
  {
   "cell_type": "markdown",
   "metadata": {},
   "source": [
    "## D) COURSE Table"
   ]
  },
  {
   "cell_type": "code",
   "execution_count": 6,
   "metadata": {},
   "outputs": [
    {
     "name": "stdout",
     "output_type": "stream",
     "text": [
      " * sqlite:///CourseData.db\n",
      "Done.\n",
      "Done.\n"
     ]
    },
    {
     "data": {
      "text/plain": [
       "[]"
      ]
     },
     "execution_count": 6,
     "metadata": {},
     "output_type": "execute_result"
    }
   ],
   "source": [
    "\n",
    "%%sql\n",
    "\n",
    "DROP TABLE IF EXISTS COURSE;\n",
    "CREATE TABLE COURSE (\n",
    "    CatalogID TEXT,\n",
    "    CourseID INTEGER PRIMARY KEY,\n",
    "    ProgramID INTEGER NOT NULL,\n",
    "    CourseTitle TEXT NOT NULL,\n",
    "    Description TEXT,\n",
    "    Attributes TEXT,\n",
    "    Coreqs TEXT,\n",
    "    Prereqs TEXT,\n",
    "    Fees TEXT,\n",
    "    Credits INTEGER NOT NULL,\n",
    "    FOREIGN KEY (ProgramID) REFERENCES PROGRAM (ProgramID)\n",
    ");"
   ]
  },
  {
   "cell_type": "markdown",
   "metadata": {},
   "source": [
    "## E) COURSE_MEETING Table"
   ]
  },
  {
   "cell_type": "code",
   "execution_count": 7,
   "metadata": {},
   "outputs": [
    {
     "name": "stdout",
     "output_type": "stream",
     "text": [
      " * sqlite:///CourseData.db\n",
      "Done.\n",
      "Done.\n"
     ]
    },
    {
     "data": {
      "text/plain": [
       "[]"
      ]
     },
     "execution_count": 7,
     "metadata": {},
     "output_type": "execute_result"
    }
   ],
   "source": [
    "\n",
    "\n",
    "%%sql\n",
    "\n",
    "DROP TABLE IF EXISTS COURSE_MEETING;\n",
    "CREATE TABLE COURSE_MEETING (\n",
    "    CourseMeetingID INTEGER PRIMARY KEY,\n",
    "    CatalogID TEXT,\n",
    "    Location TEXT,\n",
    "    StartDateTime TEXT,\n",
    "    EndDateTime TEXT,\n",
    "    FOREIGN KEY (Location) REFERENCES LOCATION (Location)\n",
    ");"
   ]
  },
  {
   "cell_type": "markdown",
   "metadata": {},
   "source": [
    "## F) COURSE_OFFERING Table"
   ]
  },
  {
   "cell_type": "code",
   "execution_count": 8,
   "metadata": {},
   "outputs": [
    {
     "name": "stdout",
     "output_type": "stream",
     "text": [
      " * sqlite:///CourseData.db\n",
      "Done.\n",
      "Done.\n"
     ]
    },
    {
     "data": {
      "text/plain": [
       "[]"
      ]
     },
     "execution_count": 8,
     "metadata": {},
     "output_type": "execute_result"
    }
   ],
   "source": [
    "\n",
    "%%sql\n",
    "\n",
    "DROP TABLE IF EXISTS COURSE_OFFERING;\n",
    "CREATE TABLE COURSE_OFFERING (\n",
    "    CourseOfferingID INTEGER PRIMARY KEY,\n",
    "    CatalogID TEXT NOT NULL,\n",
    "    CourseTitle TEXT NOT NULL,\n",
    "    InstructorName TEXT NOT NULL,\n",
    "    Section TEXT, \n",
    "    Meetings TEXT NOT NULL,\n",
    "    Timecodes TEXT NOT NULL,\n",
    "    Term TEXT NOT NULL,\n",
    "    StartDay TEXT NOT NULL,\n",
    "    End TEXT NOT NULL,    \n",
    "    Cap INTEGER NOT NULL,\n",
    "    Act INTEGER NOT NULL,\n",
    "    Rem INTEGER NOT NULL,\n",
    "    FOREIGN KEY (CatalogID) REFERENCES COURSE_MEETING (CatalogID)\n",
    "    FOREIGN KEY (InstructorName) REFERENCES INSTRUCTOR \n",
    "    (InstructorName)\n",
    "    FOREIGN KEY (CourseTitle) REFERENCES COURSE (CourseTitle)\n",
    ");\n",
    "\n",
    "\n"
   ]
  },
  {
   "cell_type": "markdown",
   "metadata": {},
   "source": [
    "# 2) DataFrame Creation using Python/Pandas"
   ]
  },
  {
   "cell_type": "markdown",
   "metadata": {},
   "source": [
    "## First DataFrame using Courses.csv"
   ]
  },
  {
   "cell_type": "code",
   "execution_count": 9,
   "metadata": {},
   "outputs": [
    {
     "data": {
      "text/html": [
       "<div>\n",
       "<style scoped>\n",
       "    .dataframe tbody tr th:only-of-type {\n",
       "        vertical-align: middle;\n",
       "    }\n",
       "\n",
       "    .dataframe tbody tr th {\n",
       "        vertical-align: top;\n",
       "    }\n",
       "\n",
       "    .dataframe thead th {\n",
       "        text-align: right;\n",
       "    }\n",
       "</style>\n",
       "<table border=\"1\" class=\"dataframe\">\n",
       "  <thead>\n",
       "    <tr style=\"text-align: right;\">\n",
       "      <th></th>\n",
       "      <th>term</th>\n",
       "      <th>crn</th>\n",
       "      <th>catalog_id</th>\n",
       "      <th>section</th>\n",
       "      <th>credits</th>\n",
       "      <th>title</th>\n",
       "      <th>meetings</th>\n",
       "      <th>timecodes</th>\n",
       "      <th>primary_instructor</th>\n",
       "      <th>cap</th>\n",
       "      <th>act</th>\n",
       "      <th>rem</th>\n",
       "    </tr>\n",
       "  </thead>\n",
       "  <tbody>\n",
       "    <tr>\n",
       "      <th>0</th>\n",
       "      <td>Fall2014</td>\n",
       "      <td>70384</td>\n",
       "      <td>AC 0011</td>\n",
       "      <td>C01</td>\n",
       "      <td>3</td>\n",
       "      <td>Introduction to Financial Accounting</td>\n",
       "      <td>[{'days': 'TF', 'times': '0800am-0915am', 'dat...</td>\n",
       "      <td>['TF 0800am-0915am 09/02-12/08 DSB 105']</td>\n",
       "      <td>Michael P.  Coyne</td>\n",
       "      <td>0</td>\n",
       "      <td>31</td>\n",
       "      <td>-31</td>\n",
       "    </tr>\n",
       "    <tr>\n",
       "      <th>1</th>\n",
       "      <td>Fall2014</td>\n",
       "      <td>70385</td>\n",
       "      <td>AC 0011</td>\n",
       "      <td>C02</td>\n",
       "      <td>3</td>\n",
       "      <td>Introduction to Financial Accounting</td>\n",
       "      <td>[{'days': 'TF', 'times': '0930am-1045am', 'dat...</td>\n",
       "      <td>['TF 0930am-1045am 09/02-12/08 DSB 105']</td>\n",
       "      <td>Michael P.  Coyne</td>\n",
       "      <td>0</td>\n",
       "      <td>31</td>\n",
       "      <td>-31</td>\n",
       "    </tr>\n",
       "    <tr>\n",
       "      <th>2</th>\n",
       "      <td>Fall2014</td>\n",
       "      <td>70382</td>\n",
       "      <td>AC 0011</td>\n",
       "      <td>C03</td>\n",
       "      <td>3</td>\n",
       "      <td>Introduction to Financial Accounting</td>\n",
       "      <td>[{'days': 'TF', 'times': '1230pm-0145pm', 'dat...</td>\n",
       "      <td>['TF 1230pm-0145pm 09/02-12/08 DSB 105']</td>\n",
       "      <td>Michael P.  Coyne</td>\n",
       "      <td>0</td>\n",
       "      <td>31</td>\n",
       "      <td>-31</td>\n",
       "    </tr>\n",
       "    <tr>\n",
       "      <th>3</th>\n",
       "      <td>Fall2014</td>\n",
       "      <td>70291</td>\n",
       "      <td>AC 0011</td>\n",
       "      <td>C04</td>\n",
       "      <td>3</td>\n",
       "      <td>Introduction to Financial Accounting</td>\n",
       "      <td>[{'days': 'MR', 'times': '1100am-1215pm', 'dat...</td>\n",
       "      <td>['MR 1100am-1215pm 09/02-12/08 DSB 111']</td>\n",
       "      <td>Rebecca I.  Bloch</td>\n",
       "      <td>0</td>\n",
       "      <td>29</td>\n",
       "      <td>-29</td>\n",
       "    </tr>\n",
       "    <tr>\n",
       "      <th>4</th>\n",
       "      <td>Fall2014</td>\n",
       "      <td>70350</td>\n",
       "      <td>AC 0011</td>\n",
       "      <td>C05</td>\n",
       "      <td>3</td>\n",
       "      <td>Introduction to Financial Accounting</td>\n",
       "      <td>[{'days': 'MR', 'times': '1230pm-0145pm', 'dat...</td>\n",
       "      <td>['MR 1230pm-0145pm 09/02-12/08 DSB 111']</td>\n",
       "      <td>Rebecca I.  Bloch</td>\n",
       "      <td>0</td>\n",
       "      <td>30</td>\n",
       "      <td>-30</td>\n",
       "    </tr>\n",
       "  </tbody>\n",
       "</table>\n",
       "</div>"
      ],
      "text/plain": [
       "       term    crn catalog_id section credits  \\\n",
       "0  Fall2014  70384    AC 0011     C01       3   \n",
       "1  Fall2014  70385    AC 0011     C02       3   \n",
       "2  Fall2014  70382    AC 0011     C03       3   \n",
       "3  Fall2014  70291    AC 0011     C04       3   \n",
       "4  Fall2014  70350    AC 0011     C05       3   \n",
       "\n",
       "                                  title  \\\n",
       "0  Introduction to Financial Accounting   \n",
       "1  Introduction to Financial Accounting   \n",
       "2  Introduction to Financial Accounting   \n",
       "3  Introduction to Financial Accounting   \n",
       "4  Introduction to Financial Accounting   \n",
       "\n",
       "                                            meetings  \\\n",
       "0  [{'days': 'TF', 'times': '0800am-0915am', 'dat...   \n",
       "1  [{'days': 'TF', 'times': '0930am-1045am', 'dat...   \n",
       "2  [{'days': 'TF', 'times': '1230pm-0145pm', 'dat...   \n",
       "3  [{'days': 'MR', 'times': '1100am-1215pm', 'dat...   \n",
       "4  [{'days': 'MR', 'times': '1230pm-0145pm', 'dat...   \n",
       "\n",
       "                                  timecodes primary_instructor  cap  act  rem  \n",
       "0  ['TF 0800am-0915am 09/02-12/08 DSB 105']  Michael P.  Coyne    0   31  -31  \n",
       "1  ['TF 0930am-1045am 09/02-12/08 DSB 105']  Michael P.  Coyne    0   31  -31  \n",
       "2  ['TF 1230pm-0145pm 09/02-12/08 DSB 105']  Michael P.  Coyne    0   31  -31  \n",
       "3  ['MR 1100am-1215pm 09/02-12/08 DSB 111']  Rebecca I.  Bloch    0   29  -29  \n",
       "4  ['MR 1230pm-0145pm 09/02-12/08 DSB 111']  Rebecca I.  Bloch    0   30  -30  "
      ]
     },
     "execution_count": 9,
     "metadata": {},
     "output_type": "execute_result"
    }
   ],
   "source": [
    "\n",
    "cs=pd.read_csv(\"Courses.csv\", encoding='utf-8' )\n",
    "\n",
    "cs.head()"
   ]
  },
  {
   "cell_type": "markdown",
   "metadata": {},
   "source": []
  },
  {
   "cell_type": "code",
   "execution_count": 10,
   "metadata": {},
   "outputs": [],
   "source": [
    "#Replace missing values with a string '[]'\n",
    "\n",
    "#cs1.fillna('[]').head()"
   ]
  },
  {
   "cell_type": "code",
   "execution_count": 11,
   "metadata": {},
   "outputs": [],
   "source": [
    "#Count \n",
    "\n",
    "#cs1.count()"
   ]
  },
  {
   "cell_type": "code",
   "execution_count": 12,
   "metadata": {},
   "outputs": [
    {
     "data": {
      "text/html": [
       "<div>\n",
       "<style scoped>\n",
       "    .dataframe tbody tr th:only-of-type {\n",
       "        vertical-align: middle;\n",
       "    }\n",
       "\n",
       "    .dataframe tbody tr th {\n",
       "        vertical-align: top;\n",
       "    }\n",
       "\n",
       "    .dataframe thead th {\n",
       "        text-align: right;\n",
       "    }\n",
       "</style>\n",
       "<table border=\"1\" class=\"dataframe\">\n",
       "  <thead>\n",
       "    <tr style=\"text-align: right;\">\n",
       "      <th></th>\n",
       "      <th>term</th>\n",
       "      <th>crn</th>\n",
       "      <th>location</th>\n",
       "      <th>day</th>\n",
       "      <th>start</th>\n",
       "      <th>end</th>\n",
       "    </tr>\n",
       "  </thead>\n",
       "  <tbody>\n",
       "    <tr>\n",
       "      <th>0</th>\n",
       "      <td>Fall2014</td>\n",
       "      <td>70384</td>\n",
       "      <td>DSB 105</td>\n",
       "      <td>T</td>\n",
       "      <td>2014-09-02T08:00:00</td>\n",
       "      <td>2014-09-02T09:15:00</td>\n",
       "    </tr>\n",
       "    <tr>\n",
       "      <th>1</th>\n",
       "      <td>Fall2014</td>\n",
       "      <td>70384</td>\n",
       "      <td>DSB 105</td>\n",
       "      <td>F</td>\n",
       "      <td>2014-09-05T08:00:00</td>\n",
       "      <td>2014-09-05T09:15:00</td>\n",
       "    </tr>\n",
       "    <tr>\n",
       "      <th>2</th>\n",
       "      <td>Fall2014</td>\n",
       "      <td>70384</td>\n",
       "      <td>DSB 105</td>\n",
       "      <td>T</td>\n",
       "      <td>2014-09-09T08:00:00</td>\n",
       "      <td>2014-09-09T09:15:00</td>\n",
       "    </tr>\n",
       "    <tr>\n",
       "      <th>3</th>\n",
       "      <td>Fall2014</td>\n",
       "      <td>70384</td>\n",
       "      <td>DSB 105</td>\n",
       "      <td>F</td>\n",
       "      <td>2014-09-12T08:00:00</td>\n",
       "      <td>2014-09-12T09:15:00</td>\n",
       "    </tr>\n",
       "    <tr>\n",
       "      <th>4</th>\n",
       "      <td>Fall2014</td>\n",
       "      <td>70384</td>\n",
       "      <td>DSB 105</td>\n",
       "      <td>T</td>\n",
       "      <td>2014-09-16T08:00:00</td>\n",
       "      <td>2014-09-16T09:15:00</td>\n",
       "    </tr>\n",
       "  </tbody>\n",
       "</table>\n",
       "</div>"
      ],
      "text/plain": [
       "       term    crn location day                start                  end\n",
       "0  Fall2014  70384  DSB 105   T  2014-09-02T08:00:00  2014-09-02T09:15:00\n",
       "1  Fall2014  70384  DSB 105   F  2014-09-05T08:00:00  2014-09-05T09:15:00\n",
       "2  Fall2014  70384  DSB 105   T  2014-09-09T08:00:00  2014-09-09T09:15:00\n",
       "3  Fall2014  70384  DSB 105   F  2014-09-12T08:00:00  2014-09-12T09:15:00\n",
       "4  Fall2014  70384  DSB 105   T  2014-09-16T08:00:00  2014-09-16T09:15:00"
      ]
     },
     "execution_count": 12,
     "metadata": {},
     "output_type": "execute_result"
    }
   ],
   "source": [
    "#Create dataframe cm from Course_meetings.csv. \n",
    "#Displaying first 5 results\n",
    "\n",
    "cm=pd.read_csv('Course_meetings.csv')\n",
    "cm.head()"
   ]
  },
  {
   "cell_type": "code",
   "execution_count": 13,
   "metadata": {},
   "outputs": [],
   "source": [
    "#cm.fillna('[]').head()"
   ]
  },
  {
   "cell_type": "code",
   "execution_count": 14,
   "metadata": {},
   "outputs": [
    {
     "data": {
      "text/plain": [
       "term        284925\n",
       "crn         284925\n",
       "location    284925\n",
       "day         284925\n",
       "start       284925\n",
       "end         284925\n",
       "dtype: int64"
      ]
     },
     "execution_count": 14,
     "metadata": {},
     "output_type": "execute_result"
    }
   ],
   "source": [
    "cm.count()"
   ]
  },
  {
   "cell_type": "code",
   "execution_count": 15,
   "metadata": {},
   "outputs": [
    {
     "name": "stdout",
     "output_type": "stream",
     "text": [
      "<class 'pandas.core.frame.DataFrame'>\n",
      "RangeIndex: 284925 entries, 0 to 284924\n",
      "Data columns (total 6 columns):\n",
      "term        284925 non-null object\n",
      "crn         284925 non-null int64\n",
      "location    284925 non-null object\n",
      "day         284925 non-null object\n",
      "start       284925 non-null object\n",
      "end         284925 non-null object\n",
      "dtypes: int64(1), object(5)\n",
      "memory usage: 13.0+ MB\n"
     ]
    }
   ],
   "source": [
    "cm.info()"
   ]
  },
  {
   "cell_type": "code",
   "execution_count": 16,
   "metadata": {},
   "outputs": [
    {
     "data": {
      "text/html": [
       "<div>\n",
       "<style scoped>\n",
       "    .dataframe tbody tr th:only-of-type {\n",
       "        vertical-align: middle;\n",
       "    }\n",
       "\n",
       "    .dataframe tbody tr th {\n",
       "        vertical-align: top;\n",
       "    }\n",
       "\n",
       "    .dataframe thead th {\n",
       "        text-align: right;\n",
       "    }\n",
       "</style>\n",
       "<table border=\"1\" class=\"dataframe\">\n",
       "  <thead>\n",
       "    <tr style=\"text-align: right;\">\n",
       "      <th></th>\n",
       "      <th>program_code</th>\n",
       "      <th>program_name</th>\n",
       "      <th>catalog_id</th>\n",
       "      <th>course_title</th>\n",
       "      <th>credits</th>\n",
       "      <th>prereqs</th>\n",
       "      <th>coreqs</th>\n",
       "      <th>fees</th>\n",
       "      <th>attributes</th>\n",
       "      <th>description</th>\n",
       "    </tr>\n",
       "  </thead>\n",
       "  <tbody>\n",
       "    <tr>\n",
       "      <th>0</th>\n",
       "      <td>AN</td>\n",
       "      <td>Asian Studies</td>\n",
       "      <td>AN 0301</td>\n",
       "      <td>Independent Study</td>\n",
       "      <td>1-3 Credits</td>\n",
       "      <td>NaN</td>\n",
       "      <td>NaN</td>\n",
       "      <td>NaN</td>\n",
       "      <td>NaN</td>\n",
       "      <td>Students undertake an individualized program o...</td>\n",
       "    </tr>\n",
       "    <tr>\n",
       "      <th>1</th>\n",
       "      <td>AN</td>\n",
       "      <td>Asian Studies</td>\n",
       "      <td>AN 0310</td>\n",
       "      <td>Asian Studies Seminar</td>\n",
       "      <td>3 Credits</td>\n",
       "      <td>NaN</td>\n",
       "      <td>NaN</td>\n",
       "      <td>NaN</td>\n",
       "      <td>NaN</td>\n",
       "      <td>This seminar examines selected topics concerni...</td>\n",
       "    </tr>\n",
       "    <tr>\n",
       "      <th>2</th>\n",
       "      <td>BU</td>\n",
       "      <td>Business</td>\n",
       "      <td>BU 0211</td>\n",
       "      <td>Legal Environment of Business</td>\n",
       "      <td>3 Credits</td>\n",
       "      <td>Junior standing.</td>\n",
       "      <td>NaN</td>\n",
       "      <td>NaN</td>\n",
       "      <td>NaN</td>\n",
       "      <td>This course examines the broad philosophical a...</td>\n",
       "    </tr>\n",
       "    <tr>\n",
       "      <th>3</th>\n",
       "      <td>BU</td>\n",
       "      <td>Business</td>\n",
       "      <td>BU 0220</td>\n",
       "      <td>Environmental Law and Policy</td>\n",
       "      <td>3 Credits</td>\n",
       "      <td>NaN</td>\n",
       "      <td>NaN</td>\n",
       "      <td>NaN</td>\n",
       "      <td>EVME Environmental Studies Major Elective, EVP...</td>\n",
       "      <td>This course surveys issues arising out of fede...</td>\n",
       "    </tr>\n",
       "    <tr>\n",
       "      <th>4</th>\n",
       "      <td>BU</td>\n",
       "      <td>Business</td>\n",
       "      <td>BU 0311</td>\n",
       "      <td>The Law of Contracts, Sales, and Property</td>\n",
       "      <td>3 Credits</td>\n",
       "      <td>BU 0211.</td>\n",
       "      <td>NaN</td>\n",
       "      <td>NaN</td>\n",
       "      <td>NaN</td>\n",
       "      <td>This course examines the components of common ...</td>\n",
       "    </tr>\n",
       "  </tbody>\n",
       "</table>\n",
       "</div>"
      ],
      "text/plain": [
       "  program_code   program_name catalog_id  \\\n",
       "0           AN  Asian Studies    AN 0301   \n",
       "1           AN  Asian Studies    AN 0310   \n",
       "2           BU       Business    BU 0211   \n",
       "3           BU       Business    BU 0220   \n",
       "4           BU       Business    BU 0311   \n",
       "\n",
       "                                course_title      credits           prereqs  \\\n",
       "0                          Independent Study  1-3 Credits               NaN   \n",
       "1                      Asian Studies Seminar    3 Credits               NaN   \n",
       "2              Legal Environment of Business    3 Credits  Junior standing.   \n",
       "3               Environmental Law and Policy    3 Credits               NaN   \n",
       "4  The Law of Contracts, Sales, and Property    3 Credits          BU 0211.   \n",
       "\n",
       "  coreqs fees                                         attributes  \\\n",
       "0    NaN  NaN                                                NaN   \n",
       "1    NaN  NaN                                                NaN   \n",
       "2    NaN  NaN                                                NaN   \n",
       "3    NaN  NaN  EVME Environmental Studies Major Elective, EVP...   \n",
       "4    NaN  NaN                                                NaN   \n",
       "\n",
       "                                         description  \n",
       "0  Students undertake an individualized program o...  \n",
       "1  This seminar examines selected topics concerni...  \n",
       "2  This course examines the broad philosophical a...  \n",
       "3  This course surveys issues arising out of fede...  \n",
       "4  This course examines the components of common ...  "
      ]
     },
     "execution_count": 16,
     "metadata": {},
     "output_type": "execute_result"
    }
   ],
   "source": [
    "# Duplicate data for the 2 academic years\n",
    "#cc=pd.read_csv('SourceData/CourseCatalog2017_2019.csv')\n",
    "cc=pd.read_csv('SourceData/Catalogs/CourseCatalog2017_2018.csv')\n",
    "#cc1=cc.drop([\"catalog_id\" , \"course_title\" , \"credits\"], axis=1)\n",
    "#cc1.head()\n",
    "cc.head()"
   ]
  },
  {
   "cell_type": "code",
   "execution_count": 17,
   "metadata": {},
   "outputs": [
    {
     "name": "stdout",
     "output_type": "stream",
     "text": [
      "<class 'pandas.core.frame.DataFrame'>\n",
      "RangeIndex: 2220 entries, 0 to 2219\n",
      "Data columns (total 10 columns):\n",
      "program_code    2220 non-null object\n",
      "program_name    2220 non-null object\n",
      "catalog_id      2220 non-null object\n",
      "course_title    2220 non-null object\n",
      "credits         2220 non-null object\n",
      "prereqs         1129 non-null object\n",
      "coreqs          98 non-null object\n",
      "fees            125 non-null object\n",
      "attributes      766 non-null object\n",
      "description     2118 non-null object\n",
      "dtypes: object(10)\n",
      "memory usage: 173.6+ KB\n"
     ]
    }
   ],
   "source": [
    "cc.info()"
   ]
  },
  {
   "cell_type": "code",
   "execution_count": 18,
   "metadata": {},
   "outputs": [
    {
     "data": {
      "text/html": [
       "<div>\n",
       "<style scoped>\n",
       "    .dataframe tbody tr th:only-of-type {\n",
       "        vertical-align: middle;\n",
       "    }\n",
       "\n",
       "    .dataframe tbody tr th {\n",
       "        vertical-align: top;\n",
       "    }\n",
       "\n",
       "    .dataframe thead th {\n",
       "        text-align: right;\n",
       "    }\n",
       "</style>\n",
       "<table border=\"1\" class=\"dataframe\">\n",
       "  <thead>\n",
       "    <tr style=\"text-align: right;\">\n",
       "      <th></th>\n",
       "      <th>program_code</th>\n",
       "      <th>program_name</th>\n",
       "      <th>catalog_id</th>\n",
       "      <th>course_title</th>\n",
       "      <th>credits</th>\n",
       "      <th>prereqs</th>\n",
       "      <th>coreqs</th>\n",
       "      <th>fees</th>\n",
       "      <th>attributes</th>\n",
       "      <th>description</th>\n",
       "    </tr>\n",
       "  </thead>\n",
       "  <tbody>\n",
       "    <tr>\n",
       "      <th>count</th>\n",
       "      <td>2220</td>\n",
       "      <td>2220</td>\n",
       "      <td>2220</td>\n",
       "      <td>2220</td>\n",
       "      <td>2220</td>\n",
       "      <td>1129</td>\n",
       "      <td>98</td>\n",
       "      <td>125</td>\n",
       "      <td>766</td>\n",
       "      <td>2118</td>\n",
       "    </tr>\n",
       "    <tr>\n",
       "      <th>unique</th>\n",
       "      <td>83</td>\n",
       "      <td>82</td>\n",
       "      <td>2220</td>\n",
       "      <td>1900</td>\n",
       "      <td>20</td>\n",
       "      <td>472</td>\n",
       "      <td>92</td>\n",
       "      <td>9</td>\n",
       "      <td>321</td>\n",
       "      <td>1961</td>\n",
       "    </tr>\n",
       "    <tr>\n",
       "      <th>top</th>\n",
       "      <td>EN</td>\n",
       "      <td>English</td>\n",
       "      <td>SO 0169</td>\n",
       "      <td>Internship</td>\n",
       "      <td>3 Credits</td>\n",
       "      <td>HI 0010 or CL 0115 or CL 0116.</td>\n",
       "      <td>BI 0324 or BI 0325 or CH 0324 or CH 0325.</td>\n",
       "      <td>$55 Science Lab Fee</td>\n",
       "      <td>VPCH Visual and Performing Arts Core: History ...</td>\n",
       "      <td>This course, a continuation of</td>\n",
       "    </tr>\n",
       "    <tr>\n",
       "      <th>freq</th>\n",
       "      <td>99</td>\n",
       "      <td>99</td>\n",
       "      <td>1</td>\n",
       "      <td>49</td>\n",
       "      <td>1871</td>\n",
       "      <td>82</td>\n",
       "      <td>4</td>\n",
       "      <td>40</td>\n",
       "      <td>42</td>\n",
       "      <td>22</td>\n",
       "    </tr>\n",
       "  </tbody>\n",
       "</table>\n",
       "</div>"
      ],
      "text/plain": [
       "       program_code program_name catalog_id course_title    credits  \\\n",
       "count          2220         2220       2220         2220       2220   \n",
       "unique           83           82       2220         1900         20   \n",
       "top              EN      English    SO 0169   Internship  3 Credits   \n",
       "freq             99           99          1           49       1871   \n",
       "\n",
       "                               prereqs  \\\n",
       "count                             1129   \n",
       "unique                             472   \n",
       "top     HI 0010 or CL 0115 or CL 0116.   \n",
       "freq                                82   \n",
       "\n",
       "                                           coreqs                 fees  \\\n",
       "count                                          98                  125   \n",
       "unique                                         92                    9   \n",
       "top     BI 0324 or BI 0325 or CH 0324 or CH 0325.  $55 Science Lab Fee   \n",
       "freq                                            4                   40   \n",
       "\n",
       "                                               attributes  \\\n",
       "count                                                 766   \n",
       "unique                                                321   \n",
       "top     VPCH Visual and Performing Arts Core: History ...   \n",
       "freq                                                   42   \n",
       "\n",
       "                            description  \n",
       "count                              2118  \n",
       "unique                             1961  \n",
       "top     This course, a continuation of   \n",
       "freq                                 22  "
      ]
     },
     "execution_count": 18,
     "metadata": {},
     "output_type": "execute_result"
    }
   ],
   "source": [
    "cc.describe()"
   ]
  },
  {
   "cell_type": "code",
   "execution_count": 19,
   "metadata": {},
   "outputs": [
    {
     "data": {
      "text/plain": [
       "program_code    2220\n",
       "program_name    2220\n",
       "catalog_id      2220\n",
       "course_title    2220\n",
       "credits         2220\n",
       "prereqs         1129\n",
       "coreqs            98\n",
       "fees             125\n",
       "attributes       766\n",
       "description     2118\n",
       "dtype: int64"
      ]
     },
     "execution_count": 19,
     "metadata": {},
     "output_type": "execute_result"
    }
   ],
   "source": [
    "cc.count()"
   ]
  },
  {
   "cell_type": "code",
   "execution_count": 20,
   "metadata": {},
   "outputs": [],
   "source": [
    "#Data warehouse\n",
    "\n",
    "#CourseData = pd.concat([cc1,cs1,cm], axis = 1)\n",
    "#CourseData.head()"
   ]
  },
  {
   "cell_type": "code",
   "execution_count": 21,
   "metadata": {},
   "outputs": [
    {
     "data": {
      "text/html": [
       "<div>\n",
       "<style scoped>\n",
       "    .dataframe tbody tr th:only-of-type {\n",
       "        vertical-align: middle;\n",
       "    }\n",
       "\n",
       "    .dataframe tbody tr th {\n",
       "        vertical-align: top;\n",
       "    }\n",
       "\n",
       "    .dataframe thead th {\n",
       "        text-align: right;\n",
       "    }\n",
       "</style>\n",
       "<table border=\"1\" class=\"dataframe\">\n",
       "  <thead>\n",
       "    <tr style=\"text-align: right;\">\n",
       "      <th></th>\n",
       "      <th>term</th>\n",
       "      <th>crn</th>\n",
       "      <th>location</th>\n",
       "      <th>day</th>\n",
       "      <th>start</th>\n",
       "      <th>end</th>\n",
       "      <th>catalog_id</th>\n",
       "      <th>section</th>\n",
       "      <th>credits_x</th>\n",
       "      <th>title</th>\n",
       "      <th>...</th>\n",
       "      <th>rem</th>\n",
       "      <th>program_code</th>\n",
       "      <th>program_name</th>\n",
       "      <th>course_title</th>\n",
       "      <th>credits_y</th>\n",
       "      <th>prereqs</th>\n",
       "      <th>coreqs</th>\n",
       "      <th>fees</th>\n",
       "      <th>attributes</th>\n",
       "      <th>description</th>\n",
       "    </tr>\n",
       "  </thead>\n",
       "  <tbody>\n",
       "    <tr>\n",
       "      <th>0</th>\n",
       "      <td>Fall2014</td>\n",
       "      <td>70384</td>\n",
       "      <td>DSB 105</td>\n",
       "      <td>T</td>\n",
       "      <td>2014-09-02T08:00:00</td>\n",
       "      <td>2014-09-02T09:15:00</td>\n",
       "      <td>AC 0011</td>\n",
       "      <td>C01</td>\n",
       "      <td>3</td>\n",
       "      <td>Introduction to Financial Accounting</td>\n",
       "      <td>...</td>\n",
       "      <td>-31</td>\n",
       "      <td>AC</td>\n",
       "      <td>Accounting</td>\n",
       "      <td>Introduction to Financial Accounting</td>\n",
       "      <td>3 Credits</td>\n",
       "      <td>NaN</td>\n",
       "      <td>NaN</td>\n",
       "      <td>NaN</td>\n",
       "      <td>NaN</td>\n",
       "      <td>This course introduces students to financial a...</td>\n",
       "    </tr>\n",
       "    <tr>\n",
       "      <th>1</th>\n",
       "      <td>Fall2014</td>\n",
       "      <td>70384</td>\n",
       "      <td>DSB 105</td>\n",
       "      <td>F</td>\n",
       "      <td>2014-09-05T08:00:00</td>\n",
       "      <td>2014-09-05T09:15:00</td>\n",
       "      <td>AC 0011</td>\n",
       "      <td>C01</td>\n",
       "      <td>3</td>\n",
       "      <td>Introduction to Financial Accounting</td>\n",
       "      <td>...</td>\n",
       "      <td>-31</td>\n",
       "      <td>AC</td>\n",
       "      <td>Accounting</td>\n",
       "      <td>Introduction to Financial Accounting</td>\n",
       "      <td>3 Credits</td>\n",
       "      <td>NaN</td>\n",
       "      <td>NaN</td>\n",
       "      <td>NaN</td>\n",
       "      <td>NaN</td>\n",
       "      <td>This course introduces students to financial a...</td>\n",
       "    </tr>\n",
       "    <tr>\n",
       "      <th>2</th>\n",
       "      <td>Fall2014</td>\n",
       "      <td>70384</td>\n",
       "      <td>DSB 105</td>\n",
       "      <td>T</td>\n",
       "      <td>2014-09-09T08:00:00</td>\n",
       "      <td>2014-09-09T09:15:00</td>\n",
       "      <td>AC 0011</td>\n",
       "      <td>C01</td>\n",
       "      <td>3</td>\n",
       "      <td>Introduction to Financial Accounting</td>\n",
       "      <td>...</td>\n",
       "      <td>-31</td>\n",
       "      <td>AC</td>\n",
       "      <td>Accounting</td>\n",
       "      <td>Introduction to Financial Accounting</td>\n",
       "      <td>3 Credits</td>\n",
       "      <td>NaN</td>\n",
       "      <td>NaN</td>\n",
       "      <td>NaN</td>\n",
       "      <td>NaN</td>\n",
       "      <td>This course introduces students to financial a...</td>\n",
       "    </tr>\n",
       "    <tr>\n",
       "      <th>3</th>\n",
       "      <td>Fall2014</td>\n",
       "      <td>70384</td>\n",
       "      <td>DSB 105</td>\n",
       "      <td>F</td>\n",
       "      <td>2014-09-12T08:00:00</td>\n",
       "      <td>2014-09-12T09:15:00</td>\n",
       "      <td>AC 0011</td>\n",
       "      <td>C01</td>\n",
       "      <td>3</td>\n",
       "      <td>Introduction to Financial Accounting</td>\n",
       "      <td>...</td>\n",
       "      <td>-31</td>\n",
       "      <td>AC</td>\n",
       "      <td>Accounting</td>\n",
       "      <td>Introduction to Financial Accounting</td>\n",
       "      <td>3 Credits</td>\n",
       "      <td>NaN</td>\n",
       "      <td>NaN</td>\n",
       "      <td>NaN</td>\n",
       "      <td>NaN</td>\n",
       "      <td>This course introduces students to financial a...</td>\n",
       "    </tr>\n",
       "    <tr>\n",
       "      <th>4</th>\n",
       "      <td>Fall2014</td>\n",
       "      <td>70384</td>\n",
       "      <td>DSB 105</td>\n",
       "      <td>T</td>\n",
       "      <td>2014-09-16T08:00:00</td>\n",
       "      <td>2014-09-16T09:15:00</td>\n",
       "      <td>AC 0011</td>\n",
       "      <td>C01</td>\n",
       "      <td>3</td>\n",
       "      <td>Introduction to Financial Accounting</td>\n",
       "      <td>...</td>\n",
       "      <td>-31</td>\n",
       "      <td>AC</td>\n",
       "      <td>Accounting</td>\n",
       "      <td>Introduction to Financial Accounting</td>\n",
       "      <td>3 Credits</td>\n",
       "      <td>NaN</td>\n",
       "      <td>NaN</td>\n",
       "      <td>NaN</td>\n",
       "      <td>NaN</td>\n",
       "      <td>This course introduces students to financial a...</td>\n",
       "    </tr>\n",
       "  </tbody>\n",
       "</table>\n",
       "<p>5 rows × 25 columns</p>\n",
       "</div>"
      ],
      "text/plain": [
       "       term    crn location day                start                  end  \\\n",
       "0  Fall2014  70384  DSB 105   T  2014-09-02T08:00:00  2014-09-02T09:15:00   \n",
       "1  Fall2014  70384  DSB 105   F  2014-09-05T08:00:00  2014-09-05T09:15:00   \n",
       "2  Fall2014  70384  DSB 105   T  2014-09-09T08:00:00  2014-09-09T09:15:00   \n",
       "3  Fall2014  70384  DSB 105   F  2014-09-12T08:00:00  2014-09-12T09:15:00   \n",
       "4  Fall2014  70384  DSB 105   T  2014-09-16T08:00:00  2014-09-16T09:15:00   \n",
       "\n",
       "  catalog_id section credits_x                                 title  ... rem  \\\n",
       "0    AC 0011     C01         3  Introduction to Financial Accounting  ... -31   \n",
       "1    AC 0011     C01         3  Introduction to Financial Accounting  ... -31   \n",
       "2    AC 0011     C01         3  Introduction to Financial Accounting  ... -31   \n",
       "3    AC 0011     C01         3  Introduction to Financial Accounting  ... -31   \n",
       "4    AC 0011     C01         3  Introduction to Financial Accounting  ... -31   \n",
       "\n",
       "  program_code program_name                          course_title  credits_y  \\\n",
       "0           AC   Accounting  Introduction to Financial Accounting  3 Credits   \n",
       "1           AC   Accounting  Introduction to Financial Accounting  3 Credits   \n",
       "2           AC   Accounting  Introduction to Financial Accounting  3 Credits   \n",
       "3           AC   Accounting  Introduction to Financial Accounting  3 Credits   \n",
       "4           AC   Accounting  Introduction to Financial Accounting  3 Credits   \n",
       "\n",
       "   prereqs coreqs fees attributes  \\\n",
       "0      NaN    NaN  NaN        NaN   \n",
       "1      NaN    NaN  NaN        NaN   \n",
       "2      NaN    NaN  NaN        NaN   \n",
       "3      NaN    NaN  NaN        NaN   \n",
       "4      NaN    NaN  NaN        NaN   \n",
       "\n",
       "                                         description  \n",
       "0  This course introduces students to financial a...  \n",
       "1  This course introduces students to financial a...  \n",
       "2  This course introduces students to financial a...  \n",
       "3  This course introduces students to financial a...  \n",
       "4  This course introduces students to financial a...  \n",
       "\n",
       "[5 rows x 25 columns]"
      ]
     },
     "execution_count": 21,
     "metadata": {},
     "output_type": "execute_result"
    }
   ],
   "source": [
    "# 3 dataframes merged\n",
    "DataSet = cm.merge(cs, on=['term', 'crn']).merge(cc, how='left', on = 'catalog_id')\n",
    "#cs.merge(cc, how='left', on = 'catalog_id').head()\n",
    "DataSet.head()"
   ]
  },
  {
   "cell_type": "code",
   "execution_count": 22,
   "metadata": {},
   "outputs": [],
   "source": [
    "#CourseData.fillna('[]').head()"
   ]
  },
  {
   "cell_type": "code",
   "execution_count": 23,
   "metadata": {},
   "outputs": [],
   "source": [
    "#Checking if description matched program_name in old dataframe\n",
    "#DataSet.loc[:,['program_name', 'description']].head()\n"
   ]
  },
  {
   "cell_type": "code",
   "execution_count": 24,
   "metadata": {},
   "outputs": [
    {
     "data": {
      "text/plain": [
       "term                  284925\n",
       "crn                   284925\n",
       "location              284925\n",
       "day                   284925\n",
       "start                 284925\n",
       "end                   284925\n",
       "catalog_id            284925\n",
       "section               284925\n",
       "credits_x             284925\n",
       "title                 284925\n",
       "meetings              284925\n",
       "timecodes             284925\n",
       "primary_instructor    284925\n",
       "cap                   284925\n",
       "act                   284925\n",
       "rem                   284925\n",
       "program_code          273704\n",
       "program_name          273704\n",
       "course_title          273704\n",
       "credits_y             273704\n",
       "prereqs               145121\n",
       "coreqs                 16662\n",
       "fees                   14253\n",
       "attributes             73784\n",
       "description           260686\n",
       "dtype: int64"
      ]
     },
     "execution_count": 24,
     "metadata": {},
     "output_type": "execute_result"
    }
   ],
   "source": [
    "# Integrity checks\n",
    "DataSet.count()"
   ]
  },
  {
   "cell_type": "code",
   "execution_count": 25,
   "metadata": {},
   "outputs": [
    {
     "data": {
      "text/plain": [
       "program_code    False\n",
       "program_name    False\n",
       "catalog_id      False\n",
       "course_title    False\n",
       "credits         False\n",
       "prereqs          True\n",
       "coreqs           True\n",
       "fees             True\n",
       "attributes       True\n",
       "description      True\n",
       "dtype: bool"
      ]
     },
     "execution_count": 25,
     "metadata": {},
     "output_type": "execute_result"
    }
   ],
   "source": [
    "# Finding which fields are null\n",
    "cc.isna().any()"
   ]
  },
  {
   "cell_type": "code",
   "execution_count": 26,
   "metadata": {},
   "outputs": [],
   "source": [
    "#cc1.fillna('[]').head()"
   ]
  },
  {
   "cell_type": "markdown",
   "metadata": {},
   "source": [
    "# 3) Load DataFrame into SQL Tables"
   ]
  },
  {
   "cell_type": "code",
   "execution_count": 27,
   "metadata": {},
   "outputs": [],
   "source": [
    "#CourseData.to_sql('CourseData',conn,if_exists='append',index=False)\n",
    "DataSet.to_sql('DataSet',conn,if_exists='append',index=False)"
   ]
  },
  {
   "cell_type": "code",
   "execution_count": 28,
   "metadata": {},
   "outputs": [
    {
     "name": "stdout",
     "output_type": "stream",
     "text": [
      " * sqlite:///CourseData.db\n",
      "Done.\n"
     ]
    },
    {
     "data": {
      "text/html": [
       "<table>\n",
       "    <tr>\n",
       "        <th>term</th>\n",
       "        <th>crn</th>\n",
       "        <th>location</th>\n",
       "        <th>day</th>\n",
       "        <th>start</th>\n",
       "        <th>end</th>\n",
       "        <th>catalog_id</th>\n",
       "        <th>section</th>\n",
       "        <th>credits_x</th>\n",
       "        <th>title</th>\n",
       "        <th>meetings</th>\n",
       "        <th>timecodes</th>\n",
       "        <th>primary_instructor</th>\n",
       "        <th>cap</th>\n",
       "        <th>act</th>\n",
       "        <th>rem</th>\n",
       "        <th>program_code</th>\n",
       "        <th>program_name</th>\n",
       "        <th>course_title</th>\n",
       "        <th>credits_y</th>\n",
       "        <th>prereqs</th>\n",
       "        <th>coreqs</th>\n",
       "        <th>fees</th>\n",
       "        <th>attributes</th>\n",
       "        <th>description</th>\n",
       "    </tr>\n",
       "    <tr>\n",
       "        <td>Fall2014</td>\n",
       "        <td>70384</td>\n",
       "        <td>DSB 105</td>\n",
       "        <td>T</td>\n",
       "        <td>2014-09-02T08:00:00</td>\n",
       "        <td>2014-09-02T09:15:00</td>\n",
       "        <td>AC 0011</td>\n",
       "        <td>C01</td>\n",
       "        <td>3</td>\n",
       "        <td>Introduction to Financial Accounting</td>\n",
       "        <td>[{&#x27;days&#x27;: &#x27;TF&#x27;, &#x27;times&#x27;: &#x27;0800am-0915am&#x27;, &#x27;dates&#x27;: &#x27;09/02-12/08&#x27;, &#x27;location&#x27;: &#x27;DSB 105&#x27;}]</td>\n",
       "        <td>[&#x27;TF 0800am-0915am 09/02-12/08 DSB 105&#x27;]</td>\n",
       "        <td>Michael P.  Coyne</td>\n",
       "        <td>0</td>\n",
       "        <td>31</td>\n",
       "        <td>-31</td>\n",
       "        <td>AC</td>\n",
       "        <td>Accounting</td>\n",
       "        <td>Introduction to Financial Accounting</td>\n",
       "        <td>3 Credits</td>\n",
       "        <td>None</td>\n",
       "        <td>None</td>\n",
       "        <td>None</td>\n",
       "        <td>None</td>\n",
       "        <td>This course introduces students to financial accounting. Students learn to read and comprehend published financial statements and are introduced to the financial reporting process. Topics include financial statement analysis; accrual accounting; revenue and expense recognition; and accounting for assets, liabilities, and equities.</td>\n",
       "    </tr>\n",
       "    <tr>\n",
       "        <td>Fall2014</td>\n",
       "        <td>70384</td>\n",
       "        <td>DSB 105</td>\n",
       "        <td>F</td>\n",
       "        <td>2014-09-05T08:00:00</td>\n",
       "        <td>2014-09-05T09:15:00</td>\n",
       "        <td>AC 0011</td>\n",
       "        <td>C01</td>\n",
       "        <td>3</td>\n",
       "        <td>Introduction to Financial Accounting</td>\n",
       "        <td>[{&#x27;days&#x27;: &#x27;TF&#x27;, &#x27;times&#x27;: &#x27;0800am-0915am&#x27;, &#x27;dates&#x27;: &#x27;09/02-12/08&#x27;, &#x27;location&#x27;: &#x27;DSB 105&#x27;}]</td>\n",
       "        <td>[&#x27;TF 0800am-0915am 09/02-12/08 DSB 105&#x27;]</td>\n",
       "        <td>Michael P.  Coyne</td>\n",
       "        <td>0</td>\n",
       "        <td>31</td>\n",
       "        <td>-31</td>\n",
       "        <td>AC</td>\n",
       "        <td>Accounting</td>\n",
       "        <td>Introduction to Financial Accounting</td>\n",
       "        <td>3 Credits</td>\n",
       "        <td>None</td>\n",
       "        <td>None</td>\n",
       "        <td>None</td>\n",
       "        <td>None</td>\n",
       "        <td>This course introduces students to financial accounting. Students learn to read and comprehend published financial statements and are introduced to the financial reporting process. Topics include financial statement analysis; accrual accounting; revenue and expense recognition; and accounting for assets, liabilities, and equities.</td>\n",
       "    </tr>\n",
       "    <tr>\n",
       "        <td>Fall2014</td>\n",
       "        <td>70384</td>\n",
       "        <td>DSB 105</td>\n",
       "        <td>T</td>\n",
       "        <td>2014-09-09T08:00:00</td>\n",
       "        <td>2014-09-09T09:15:00</td>\n",
       "        <td>AC 0011</td>\n",
       "        <td>C01</td>\n",
       "        <td>3</td>\n",
       "        <td>Introduction to Financial Accounting</td>\n",
       "        <td>[{&#x27;days&#x27;: &#x27;TF&#x27;, &#x27;times&#x27;: &#x27;0800am-0915am&#x27;, &#x27;dates&#x27;: &#x27;09/02-12/08&#x27;, &#x27;location&#x27;: &#x27;DSB 105&#x27;}]</td>\n",
       "        <td>[&#x27;TF 0800am-0915am 09/02-12/08 DSB 105&#x27;]</td>\n",
       "        <td>Michael P.  Coyne</td>\n",
       "        <td>0</td>\n",
       "        <td>31</td>\n",
       "        <td>-31</td>\n",
       "        <td>AC</td>\n",
       "        <td>Accounting</td>\n",
       "        <td>Introduction to Financial Accounting</td>\n",
       "        <td>3 Credits</td>\n",
       "        <td>None</td>\n",
       "        <td>None</td>\n",
       "        <td>None</td>\n",
       "        <td>None</td>\n",
       "        <td>This course introduces students to financial accounting. Students learn to read and comprehend published financial statements and are introduced to the financial reporting process. Topics include financial statement analysis; accrual accounting; revenue and expense recognition; and accounting for assets, liabilities, and equities.</td>\n",
       "    </tr>\n",
       "    <tr>\n",
       "        <td>Fall2014</td>\n",
       "        <td>70384</td>\n",
       "        <td>DSB 105</td>\n",
       "        <td>F</td>\n",
       "        <td>2014-09-12T08:00:00</td>\n",
       "        <td>2014-09-12T09:15:00</td>\n",
       "        <td>AC 0011</td>\n",
       "        <td>C01</td>\n",
       "        <td>3</td>\n",
       "        <td>Introduction to Financial Accounting</td>\n",
       "        <td>[{&#x27;days&#x27;: &#x27;TF&#x27;, &#x27;times&#x27;: &#x27;0800am-0915am&#x27;, &#x27;dates&#x27;: &#x27;09/02-12/08&#x27;, &#x27;location&#x27;: &#x27;DSB 105&#x27;}]</td>\n",
       "        <td>[&#x27;TF 0800am-0915am 09/02-12/08 DSB 105&#x27;]</td>\n",
       "        <td>Michael P.  Coyne</td>\n",
       "        <td>0</td>\n",
       "        <td>31</td>\n",
       "        <td>-31</td>\n",
       "        <td>AC</td>\n",
       "        <td>Accounting</td>\n",
       "        <td>Introduction to Financial Accounting</td>\n",
       "        <td>3 Credits</td>\n",
       "        <td>None</td>\n",
       "        <td>None</td>\n",
       "        <td>None</td>\n",
       "        <td>None</td>\n",
       "        <td>This course introduces students to financial accounting. Students learn to read and comprehend published financial statements and are introduced to the financial reporting process. Topics include financial statement analysis; accrual accounting; revenue and expense recognition; and accounting for assets, liabilities, and equities.</td>\n",
       "    </tr>\n",
       "    <tr>\n",
       "        <td>Fall2014</td>\n",
       "        <td>70384</td>\n",
       "        <td>DSB 105</td>\n",
       "        <td>T</td>\n",
       "        <td>2014-09-16T08:00:00</td>\n",
       "        <td>2014-09-16T09:15:00</td>\n",
       "        <td>AC 0011</td>\n",
       "        <td>C01</td>\n",
       "        <td>3</td>\n",
       "        <td>Introduction to Financial Accounting</td>\n",
       "        <td>[{&#x27;days&#x27;: &#x27;TF&#x27;, &#x27;times&#x27;: &#x27;0800am-0915am&#x27;, &#x27;dates&#x27;: &#x27;09/02-12/08&#x27;, &#x27;location&#x27;: &#x27;DSB 105&#x27;}]</td>\n",
       "        <td>[&#x27;TF 0800am-0915am 09/02-12/08 DSB 105&#x27;]</td>\n",
       "        <td>Michael P.  Coyne</td>\n",
       "        <td>0</td>\n",
       "        <td>31</td>\n",
       "        <td>-31</td>\n",
       "        <td>AC</td>\n",
       "        <td>Accounting</td>\n",
       "        <td>Introduction to Financial Accounting</td>\n",
       "        <td>3 Credits</td>\n",
       "        <td>None</td>\n",
       "        <td>None</td>\n",
       "        <td>None</td>\n",
       "        <td>None</td>\n",
       "        <td>This course introduces students to financial accounting. Students learn to read and comprehend published financial statements and are introduced to the financial reporting process. Topics include financial statement analysis; accrual accounting; revenue and expense recognition; and accounting for assets, liabilities, and equities.</td>\n",
       "    </tr>\n",
       "</table>"
      ],
      "text/plain": [
       "[('Fall2014', 70384, 'DSB 105', 'T', '2014-09-02T08:00:00', '2014-09-02T09:15:00', 'AC 0011', 'C01', '3', 'Introduction to Financial Accounting', \"[{'days': 'TF', 'times': '0800am-0915am', 'dates': '09/02-12/08', 'location': 'DSB 105'}]\", \"['TF 0800am-0915am 09/02-12/08 DSB 105']\", 'Michael P.  Coyne', 0, 31, -31, 'AC', 'Accounting', 'Introduction to Financial Accounting', '3 Credits', None, None, None, None, 'This course introduces students to financial accounting. Students learn to read and comprehend published financial statements and are introduced to t ... (34 characters truncated) ... pics include financial statement analysis; accrual accounting; revenue and expense recognition; and accounting for assets, liabilities, and equities.'),\n",
       " ('Fall2014', 70384, 'DSB 105', 'F', '2014-09-05T08:00:00', '2014-09-05T09:15:00', 'AC 0011', 'C01', '3', 'Introduction to Financial Accounting', \"[{'days': 'TF', 'times': '0800am-0915am', 'dates': '09/02-12/08', 'location': 'DSB 105'}]\", \"['TF 0800am-0915am 09/02-12/08 DSB 105']\", 'Michael P.  Coyne', 0, 31, -31, 'AC', 'Accounting', 'Introduction to Financial Accounting', '3 Credits', None, None, None, None, 'This course introduces students to financial accounting. Students learn to read and comprehend published financial statements and are introduced to t ... (34 characters truncated) ... pics include financial statement analysis; accrual accounting; revenue and expense recognition; and accounting for assets, liabilities, and equities.'),\n",
       " ('Fall2014', 70384, 'DSB 105', 'T', '2014-09-09T08:00:00', '2014-09-09T09:15:00', 'AC 0011', 'C01', '3', 'Introduction to Financial Accounting', \"[{'days': 'TF', 'times': '0800am-0915am', 'dates': '09/02-12/08', 'location': 'DSB 105'}]\", \"['TF 0800am-0915am 09/02-12/08 DSB 105']\", 'Michael P.  Coyne', 0, 31, -31, 'AC', 'Accounting', 'Introduction to Financial Accounting', '3 Credits', None, None, None, None, 'This course introduces students to financial accounting. Students learn to read and comprehend published financial statements and are introduced to t ... (34 characters truncated) ... pics include financial statement analysis; accrual accounting; revenue and expense recognition; and accounting for assets, liabilities, and equities.'),\n",
       " ('Fall2014', 70384, 'DSB 105', 'F', '2014-09-12T08:00:00', '2014-09-12T09:15:00', 'AC 0011', 'C01', '3', 'Introduction to Financial Accounting', \"[{'days': 'TF', 'times': '0800am-0915am', 'dates': '09/02-12/08', 'location': 'DSB 105'}]\", \"['TF 0800am-0915am 09/02-12/08 DSB 105']\", 'Michael P.  Coyne', 0, 31, -31, 'AC', 'Accounting', 'Introduction to Financial Accounting', '3 Credits', None, None, None, None, 'This course introduces students to financial accounting. Students learn to read and comprehend published financial statements and are introduced to t ... (34 characters truncated) ... pics include financial statement analysis; accrual accounting; revenue and expense recognition; and accounting for assets, liabilities, and equities.'),\n",
       " ('Fall2014', 70384, 'DSB 105', 'T', '2014-09-16T08:00:00', '2014-09-16T09:15:00', 'AC 0011', 'C01', '3', 'Introduction to Financial Accounting', \"[{'days': 'TF', 'times': '0800am-0915am', 'dates': '09/02-12/08', 'location': 'DSB 105'}]\", \"['TF 0800am-0915am 09/02-12/08 DSB 105']\", 'Michael P.  Coyne', 0, 31, -31, 'AC', 'Accounting', 'Introduction to Financial Accounting', '3 Credits', None, None, None, None, 'This course introduces students to financial accounting. Students learn to read and comprehend published financial statements and are introduced to t ... (34 characters truncated) ... pics include financial statement analysis; accrual accounting; revenue and expense recognition; and accounting for assets, liabilities, and equities.')]"
      ]
     },
     "execution_count": 28,
     "metadata": {},
     "output_type": "execute_result"
    }
   ],
   "source": [
    "%%sql \n",
    "SELECT *\n",
    "FROM DataSet\n",
    "LIMIT 5"
   ]
  },
  {
   "cell_type": "code",
   "execution_count": 29,
   "metadata": {},
   "outputs": [
    {
     "name": "stdout",
     "output_type": "stream",
     "text": [
      " * sqlite:///CourseData.db\n",
      "0 rows affected.\n",
      "Done.\n"
     ]
    },
    {
     "data": {
      "text/plain": [
       "[]"
      ]
     },
     "execution_count": 29,
     "metadata": {},
     "output_type": "execute_result"
    }
   ],
   "source": [
    "%%sql \n",
    "DELETE FROM LOCATION;\n",
    "-- instr first instance of a character\n",
    "-- substr sub strings from start to end\n",
    "INSERT INTO LOCATION (Location_Code, Building, Room)\n",
    "SELECT DISTINCT Location as Location_Code, substr(Location,1,instr(Location, ' ')) as Building,substr(Location,instr(Location, ' ')) as Room \n",
    "FROM DataSet"
   ]
  },
  {
   "cell_type": "code",
   "execution_count": 30,
   "metadata": {},
   "outputs": [
    {
     "name": "stdout",
     "output_type": "stream",
     "text": [
      " * sqlite:///CourseData.db\n",
      "Done.\n"
     ]
    },
    {
     "data": {
      "text/html": [
       "<table>\n",
       "    <tr>\n",
       "        <th>LocationID</th>\n",
       "        <th>Location_Code</th>\n",
       "        <th>Building</th>\n",
       "        <th>Room</th>\n",
       "    </tr>\n",
       "    <tr>\n",
       "        <td>1</td>\n",
       "        <td>DSB 105</td>\n",
       "        <td>DSB </td>\n",
       "        <td> 105</td>\n",
       "    </tr>\n",
       "    <tr>\n",
       "        <td>2</td>\n",
       "        <td>DSB 111</td>\n",
       "        <td>DSB </td>\n",
       "        <td> 111</td>\n",
       "    </tr>\n",
       "    <tr>\n",
       "        <td>3</td>\n",
       "        <td>DSB 110A</td>\n",
       "        <td>DSB </td>\n",
       "        <td> 110A</td>\n",
       "    </tr>\n",
       "    <tr>\n",
       "        <td>4</td>\n",
       "        <td>DSB 108</td>\n",
       "        <td>DSB </td>\n",
       "        <td> 108</td>\n",
       "    </tr>\n",
       "    <tr>\n",
       "        <td>5</td>\n",
       "        <td>DSB 110B</td>\n",
       "        <td>DSB </td>\n",
       "        <td> 110B</td>\n",
       "    </tr>\n",
       "</table>"
      ],
      "text/plain": [
       "[(1, 'DSB 105', 'DSB ', ' 105'),\n",
       " (2, 'DSB 111', 'DSB ', ' 111'),\n",
       " (3, 'DSB 110A', 'DSB ', ' 110A'),\n",
       " (4, 'DSB 108', 'DSB ', ' 108'),\n",
       " (5, 'DSB 110B', 'DSB ', ' 110B')]"
      ]
     },
     "execution_count": 30,
     "metadata": {},
     "output_type": "execute_result"
    }
   ],
   "source": [
    "#Ingegrity check\n",
    "\n",
    "%%sql\n",
    "SELECT *\n",
    "FROM LOCATION\n",
    "LIMIT 5"
   ]
  },
  {
   "cell_type": "code",
   "execution_count": 31,
   "metadata": {},
   "outputs": [
    {
     "name": "stdout",
     "output_type": "stream",
     "text": [
      " * sqlite:///CourseData.db\n",
      "0 rows affected.\n",
      "1048 rows affected.\n"
     ]
    },
    {
     "data": {
      "text/plain": [
       "[]"
      ]
     },
     "execution_count": 31,
     "metadata": {},
     "output_type": "execute_result"
    }
   ],
   "source": [
    "%%sql\n",
    "DELETE FROM INSTRUCTOR;\n",
    "\n",
    "INSERT INTO INSTRUCTOR (InstructorName)\n",
    "SELECT DISTINCT primary_instructor\n",
    "FROM DataSet"
   ]
  },
  {
   "cell_type": "code",
   "execution_count": 32,
   "metadata": {},
   "outputs": [
    {
     "name": "stdout",
     "output_type": "stream",
     "text": [
      " * sqlite:///CourseData.db\n",
      "Done.\n"
     ]
    },
    {
     "data": {
      "text/html": [
       "<table>\n",
       "    <tr>\n",
       "        <th>InstructorID</th>\n",
       "        <th>InstructorName</th>\n",
       "    </tr>\n",
       "    <tr>\n",
       "        <td>1</td>\n",
       "        <td>Michael P.  Coyne</td>\n",
       "    </tr>\n",
       "    <tr>\n",
       "        <td>2</td>\n",
       "        <td>Rebecca I.  Bloch</td>\n",
       "    </tr>\n",
       "    <tr>\n",
       "        <td>3</td>\n",
       "        <td>Paul   Caster</td>\n",
       "    </tr>\n",
       "    <tr>\n",
       "        <td>4</td>\n",
       "        <td>Jo Ann   Drusbosky</td>\n",
       "    </tr>\n",
       "    <tr>\n",
       "        <td>5</td>\n",
       "        <td>Arleen N.  Kardos</td>\n",
       "    </tr>\n",
       "</table>"
      ],
      "text/plain": [
       "[(1, 'Michael P.  Coyne'),\n",
       " (2, 'Rebecca I.  Bloch'),\n",
       " (3, 'Paul   Caster'),\n",
       " (4, 'Jo Ann   Drusbosky'),\n",
       " (5, 'Arleen N.  Kardos')]"
      ]
     },
     "execution_count": 32,
     "metadata": {},
     "output_type": "execute_result"
    }
   ],
   "source": [
    "%%sql\n",
    "SELECT *\n",
    "FROM INSTRUCTOR\n",
    "LIMIT 5"
   ]
  },
  {
   "cell_type": "code",
   "execution_count": 33,
   "metadata": {},
   "outputs": [
    {
     "name": "stdout",
     "output_type": "stream",
     "text": [
      " * sqlite:///CourseData.db\n",
      "0 rows affected.\n",
      "81 rows affected.\n"
     ]
    },
    {
     "data": {
      "text/plain": [
       "[]"
      ]
     },
     "execution_count": 33,
     "metadata": {},
     "output_type": "execute_result"
    }
   ],
   "source": [
    "%%sql\n",
    "DELETE FROM PROGRAM;\n",
    "\n",
    "INSERT INTO PROGRAM  (ProgramCode, ProgramName)\n",
    "SELECT DISTINCT program_code, program_name\n",
    "FROM DataSet\n",
    "ORDER BY program_code"
   ]
  },
  {
   "cell_type": "code",
   "execution_count": 34,
   "metadata": {},
   "outputs": [
    {
     "name": "stdout",
     "output_type": "stream",
     "text": [
      " * sqlite:///CourseData.db\n",
      "Done.\n"
     ]
    },
    {
     "data": {
      "text/html": [
       "<table>\n",
       "    <tr>\n",
       "        <th>ProgramID</th>\n",
       "        <th>ProgramCode</th>\n",
       "        <th>ProgramName</th>\n",
       "    </tr>\n",
       "    <tr>\n",
       "        <td>1</td>\n",
       "        <td>None</td>\n",
       "        <td>None</td>\n",
       "    </tr>\n",
       "    <tr>\n",
       "        <td>2</td>\n",
       "        <td>AC</td>\n",
       "        <td>Accounting</td>\n",
       "    </tr>\n",
       "    <tr>\n",
       "        <td>3</td>\n",
       "        <td>AE</td>\n",
       "        <td>Applied Ethics</td>\n",
       "    </tr>\n",
       "    <tr>\n",
       "        <td>4</td>\n",
       "        <td>AH</td>\n",
       "        <td>Art History</td>\n",
       "    </tr>\n",
       "    <tr>\n",
       "        <td>5</td>\n",
       "        <td>AN</td>\n",
       "        <td>Asian Studies</td>\n",
       "    </tr>\n",
       "</table>"
      ],
      "text/plain": [
       "[(1, None, None),\n",
       " (2, 'AC', 'Accounting'),\n",
       " (3, 'AE', 'Applied Ethics'),\n",
       " (4, 'AH', 'Art History'),\n",
       " (5, 'AN', 'Asian Studies')]"
      ]
     },
     "execution_count": 34,
     "metadata": {},
     "output_type": "execute_result"
    }
   ],
   "source": [
    "%%sql\n",
    "SELECT *\n",
    "FROM PROGRAM\n",
    "LIMIT 5\n"
   ]
  },
  {
   "cell_type": "code",
   "execution_count": 35,
   "metadata": {},
   "outputs": [
    {
     "name": "stdout",
     "output_type": "stream",
     "text": [
      " * sqlite:///CourseData.db\n",
      "Done.\n"
     ]
    },
    {
     "data": {
      "text/html": [
       "<table>\n",
       "    <tr>\n",
       "        <th>ProgramID</th>\n",
       "    </tr>\n",
       "    <tr>\n",
       "        <td>1</td>\n",
       "    </tr>\n",
       "    <tr>\n",
       "        <td>2</td>\n",
       "    </tr>\n",
       "    <tr>\n",
       "        <td>3</td>\n",
       "    </tr>\n",
       "    <tr>\n",
       "        <td>4</td>\n",
       "    </tr>\n",
       "    <tr>\n",
       "        <td>5</td>\n",
       "    </tr>\n",
       "</table>"
      ],
      "text/plain": [
       "[(1,), (2,), (3,), (4,), (5,)]"
      ]
     },
     "execution_count": 35,
     "metadata": {},
     "output_type": "execute_result"
    }
   ],
   "source": [
    "%%sql\n",
    "SELECT ProgramID\n",
    "FROM PROGRAM\n",
    "LIMIT 5"
   ]
  },
  {
   "cell_type": "code",
   "execution_count": 36,
   "metadata": {},
   "outputs": [
    {
     "name": "stdout",
     "output_type": "stream",
     "text": [
      " * sqlite:///CourseData.db\n",
      "0 rows affected.\n",
      "1972 rows affected.\n"
     ]
    },
    {
     "data": {
      "text/plain": [
       "[]"
      ]
     },
     "execution_count": 36,
     "metadata": {},
     "output_type": "execute_result"
    }
   ],
   "source": [
    "%%sql\n",
    "DELETE FROM COURSE;\n",
    "\n",
    "INSERT INTO COURSE (CatalogID, ProgramID, CourseTitle, Description, Attributes, Coreqs, Prereqs, Fees, Credits)\n",
    "SELECT DISTINCT catalog_id, PROGRAM.ProgramID, title, description, attributes, coreqs, prereqs, fees, credits_x\n",
    "FROM DataSet\n",
    "    JOIN PROGRAM ON (PROGRAM.ProgramName=DataSet.program_name)"
   ]
  },
  {
   "cell_type": "code",
   "execution_count": 37,
   "metadata": {},
   "outputs": [
    {
     "name": "stdout",
     "output_type": "stream",
     "text": [
      " * sqlite:///CourseData.db\n",
      "Done.\n"
     ]
    },
    {
     "data": {
      "text/html": [
       "<table>\n",
       "    <tr>\n",
       "        <th>CatalogID</th>\n",
       "        <th>CourseID</th>\n",
       "        <th>ProgramID</th>\n",
       "        <th>CourseTitle</th>\n",
       "        <th>Description</th>\n",
       "        <th>Attributes</th>\n",
       "        <th>Coreqs</th>\n",
       "        <th>Prereqs</th>\n",
       "        <th>Fees</th>\n",
       "        <th>Credits</th>\n",
       "    </tr>\n",
       "    <tr>\n",
       "        <td>AC 0011</td>\n",
       "        <td>1</td>\n",
       "        <td>2</td>\n",
       "        <td>Introduction to Financial Accounting</td>\n",
       "        <td>This course introduces students to financial accounting. Students learn to read and comprehend published financial statements and are introduced to the financial reporting process. Topics include financial statement analysis; accrual accounting; revenue and expense recognition; and accounting for assets, liabilities, and equities.</td>\n",
       "        <td>None</td>\n",
       "        <td>None</td>\n",
       "        <td>None</td>\n",
       "        <td>None</td>\n",
       "        <td>3</td>\n",
       "    </tr>\n",
       "    <tr>\n",
       "        <td>AC 0012</td>\n",
       "        <td>2</td>\n",
       "        <td>2</td>\n",
       "        <td>Introduction to Management Accounting</td>\n",
       "        <td>This course introduces students to managerial accounting and the role of accounting information in managerial decision-making. Topics include a description of basic cost elements; the interrelationship between fixed costs, variable costs, and profit; and methods of accumulating the costs associated with producing products and providing services (e.g., activity-based costing), so that students can make recommendations about performance evaluation, project evaluation and other management decisions.</td>\n",
       "        <td>None</td>\n",
       "        <td>None</td>\n",
       "        <td>AC 0011.</td>\n",
       "        <td>None</td>\n",
       "        <td>3</td>\n",
       "    </tr>\n",
       "    <tr>\n",
       "        <td>AC 0203</td>\n",
       "        <td>3</td>\n",
       "        <td>2</td>\n",
       "        <td>Intermediate Accounting I</td>\n",
       "        <td>This course provides an in-depth study of financial accounting theory and concepts, and the presentation of financial statements in conformity with Generally Accepted Accounting Principles (GAAP). The course emphasizes balance sheet valuations and their relationship to income measurement and determination.</td>\n",
       "        <td>None</td>\n",
       "        <td>None</td>\n",
       "        <td>AC 0011.</td>\n",
       "        <td>None</td>\n",
       "        <td>3</td>\n",
       "    </tr>\n",
       "    <tr>\n",
       "        <td>AC 0204</td>\n",
       "        <td>4</td>\n",
       "        <td>2</td>\n",
       "        <td>Intermediate Accounting II</td>\n",
       "        <td>This course continues the in-depth study of financial accounting theory and concepts, and the presentation of financial statements in conformity with Generally Accepted Accounting Principles (GAAP) begun in </td>\n",
       "        <td>None</td>\n",
       "        <td>None</td>\n",
       "        <td>AC 0203.</td>\n",
       "        <td>None</td>\n",
       "        <td>3</td>\n",
       "    </tr>\n",
       "    <tr>\n",
       "        <td>AC 0310</td>\n",
       "        <td>5</td>\n",
       "        <td>2</td>\n",
       "        <td>Advanced Accounting</td>\n",
       "        <td>This course focuses on accounting for various financial investments, including financial instruments, derivatives, and business combinations. Students also study the role of financial instruments in hedging foreign currency exposures and the complications encountered in financial reporting in a global environment.</td>\n",
       "        <td>None</td>\n",
       "        <td>None</td>\n",
       "        <td>AC 0204; junior or senior standing.</td>\n",
       "        <td>None</td>\n",
       "        <td>3</td>\n",
       "    </tr>\n",
       "</table>"
      ],
      "text/plain": [
       "[('AC 0011', 1, 2, 'Introduction to Financial Accounting', 'This course introduces students to financial accounting. Students learn to read and comprehend published financial statements and are introduced to t ... (34 characters truncated) ... pics include financial statement analysis; accrual accounting; revenue and expense recognition; and accounting for assets, liabilities, and equities.', None, None, None, None, 3),\n",
       " ('AC 0012', 2, 2, 'Introduction to Management Accounting', 'This course introduces students to managerial accounting and the role of accounting information in managerial decision-making. Topics include a descr ... (203 characters truncated) ... , activity-based costing), so that students can make recommendations about performance evaluation, project evaluation and other management decisions.', None, None, 'AC 0011.', None, 3),\n",
       " ('AC 0203', 3, 2, 'Intermediate Accounting I', 'This course provides an in-depth study of financial accounting theory and concepts, and the presentation of financial statements in conformity with G ... (9 characters truncated) ... Accepted Accounting Principles (GAAP). The course emphasizes balance sheet valuations and their relationship to income measurement and determination.', None, None, 'AC 0011.', None, 3),\n",
       " ('AC 0204', 4, 2, 'Intermediate Accounting II', 'This course continues the in-depth study of financial accounting theory and concepts, and the presentation of financial statements in conformity with Generally Accepted Accounting Principles (GAAP) begun in ', None, None, 'AC 0203.', None, 3),\n",
       " ('AC 0310', 5, 2, 'Advanced Accounting', 'This course focuses on accounting for various financial investments, including financial instruments, derivatives, and business combinations. Student ... (17 characters truncated) ... role of financial instruments in hedging foreign currency exposures and the complications encountered in financial reporting in a global environment.', None, None, 'AC 0204; junior or senior standing.', None, 3)]"
      ]
     },
     "execution_count": 37,
     "metadata": {},
     "output_type": "execute_result"
    }
   ],
   "source": [
    "%%sql\n",
    "SELECT *\n",
    "FROM COURSE\n",
    "LIMIT 5"
   ]
  },
  {
   "cell_type": "code",
   "execution_count": 38,
   "metadata": {},
   "outputs": [
    {
     "name": "stdout",
     "output_type": "stream",
     "text": [
      " * sqlite:///CourseData.db\n",
      "0 rows affected.\n",
      "280529 rows affected.\n"
     ]
    },
    {
     "data": {
      "text/plain": [
       "[]"
      ]
     },
     "execution_count": 38,
     "metadata": {},
     "output_type": "execute_result"
    }
   ],
   "source": [
    "%%sql\n",
    "DELETE FROM COURSE_MEETING;\n",
    "\n",
    "INSERT INTO COURSE_MEETING (CatalogID, Location, StartDateTime, EndDateTime)\n",
    "SELECT DISTINCT catalog_id, DataSet.location, start, end\n",
    "FROM DataSet\n",
    "    JOIN LOCATION ON (LOCATION.Location_Code = DataSet.Location)"
   ]
  },
  {
   "cell_type": "code",
   "execution_count": 39,
   "metadata": {},
   "outputs": [
    {
     "name": "stdout",
     "output_type": "stream",
     "text": [
      " * sqlite:///CourseData.db\n",
      "Done.\n"
     ]
    },
    {
     "data": {
      "text/html": [
       "<table>\n",
       "    <tr>\n",
       "        <th>CourseMeetingID</th>\n",
       "        <th>CatalogID</th>\n",
       "        <th>Location</th>\n",
       "        <th>StartDateTime</th>\n",
       "        <th>EndDateTime</th>\n",
       "    </tr>\n",
       "    <tr>\n",
       "        <td>1</td>\n",
       "        <td>AC 0011</td>\n",
       "        <td>DSB 105</td>\n",
       "        <td>2014-09-02T08:00:00</td>\n",
       "        <td>2014-09-02T09:15:00</td>\n",
       "    </tr>\n",
       "    <tr>\n",
       "        <td>2</td>\n",
       "        <td>AC 0011</td>\n",
       "        <td>DSB 105</td>\n",
       "        <td>2014-09-05T08:00:00</td>\n",
       "        <td>2014-09-05T09:15:00</td>\n",
       "    </tr>\n",
       "    <tr>\n",
       "        <td>3</td>\n",
       "        <td>AC 0011</td>\n",
       "        <td>DSB 105</td>\n",
       "        <td>2014-09-09T08:00:00</td>\n",
       "        <td>2014-09-09T09:15:00</td>\n",
       "    </tr>\n",
       "    <tr>\n",
       "        <td>4</td>\n",
       "        <td>AC 0011</td>\n",
       "        <td>DSB 105</td>\n",
       "        <td>2014-09-12T08:00:00</td>\n",
       "        <td>2014-09-12T09:15:00</td>\n",
       "    </tr>\n",
       "    <tr>\n",
       "        <td>5</td>\n",
       "        <td>AC 0011</td>\n",
       "        <td>DSB 105</td>\n",
       "        <td>2014-09-16T08:00:00</td>\n",
       "        <td>2014-09-16T09:15:00</td>\n",
       "    </tr>\n",
       "</table>"
      ],
      "text/plain": [
       "[(1, 'AC 0011', 'DSB 105', '2014-09-02T08:00:00', '2014-09-02T09:15:00'),\n",
       " (2, 'AC 0011', 'DSB 105', '2014-09-05T08:00:00', '2014-09-05T09:15:00'),\n",
       " (3, 'AC 0011', 'DSB 105', '2014-09-09T08:00:00', '2014-09-09T09:15:00'),\n",
       " (4, 'AC 0011', 'DSB 105', '2014-09-12T08:00:00', '2014-09-12T09:15:00'),\n",
       " (5, 'AC 0011', 'DSB 105', '2014-09-16T08:00:00', '2014-09-16T09:15:00')]"
      ]
     },
     "execution_count": 39,
     "metadata": {},
     "output_type": "execute_result"
    }
   ],
   "source": [
    "%%sql\n",
    "SELECT *\n",
    "FROM COURSE_MEETING\n",
    "LIMIT 5"
   ]
  },
  {
   "cell_type": "code",
   "execution_count": 40,
   "metadata": {},
   "outputs": [
    {
     "name": "stdout",
     "output_type": "stream",
     "text": [
      " * sqlite:///CourseData.db\n",
      "0 rows affected.\n",
      "283781 rows affected.\n"
     ]
    },
    {
     "data": {
      "text/plain": [
       "[]"
      ]
     },
     "execution_count": 40,
     "metadata": {},
     "output_type": "execute_result"
    }
   ],
   "source": [
    "\n",
    "%%sql\n",
    "DELETE FROM COURSE_OFFERING;\n",
    "\n",
    "INSERT INTO COURSE_OFFERING (CatalogID, CourseTitle, InstructorName, Section, Meetings, TimeCodes, Term, StartDay, End, Cap, Act, Rem)\n",
    "SELECT DISTINCT catalog_id, title, primary_instructor, section, meetings, timecodes, term, start, end, cap, act, rem\n",
    "FROM DataSet\n",
    "     JOIN COURSE_MEETING ON (COURSE_MEETING.CatalogID = DataSet.catalog_id)\n",
    "     JOIN INSTRUCTOR ON (INSTRUCTOR.InstructorName = DataSet.primary_instructor)\n",
    "     LEFT JOIN COURSE ON (COURSE.CatalogID = DataSet.catalog_id)\n"
   ]
  },
  {
   "cell_type": "code",
   "execution_count": 41,
   "metadata": {},
   "outputs": [
    {
     "name": "stdout",
     "output_type": "stream",
     "text": [
      " * sqlite:///CourseData.db\n",
      "Done.\n"
     ]
    },
    {
     "data": {
      "text/html": [
       "<table>\n",
       "    <tr>\n",
       "        <th>CourseOfferingID</th>\n",
       "        <th>CatalogID</th>\n",
       "        <th>CourseTitle</th>\n",
       "        <th>InstructorName</th>\n",
       "        <th>Section</th>\n",
       "        <th>Meetings</th>\n",
       "        <th>Timecodes</th>\n",
       "        <th>Term</th>\n",
       "        <th>StartDay</th>\n",
       "        <th>End</th>\n",
       "        <th>Cap</th>\n",
       "        <th>Act</th>\n",
       "        <th>Rem</th>\n",
       "    </tr>\n",
       "    <tr>\n",
       "        <td>1</td>\n",
       "        <td>AC 0011</td>\n",
       "        <td>Introduction to Financial Accounting</td>\n",
       "        <td>Michael P.  Coyne</td>\n",
       "        <td>C01</td>\n",
       "        <td>[{&#x27;days&#x27;: &#x27;TF&#x27;, &#x27;times&#x27;: &#x27;0800am-0915am&#x27;, &#x27;dates&#x27;: &#x27;09/02-12/08&#x27;, &#x27;location&#x27;: &#x27;DSB 105&#x27;}]</td>\n",
       "        <td>[&#x27;TF 0800am-0915am 09/02-12/08 DSB 105&#x27;]</td>\n",
       "        <td>Fall2014</td>\n",
       "        <td>2014-09-02T08:00:00</td>\n",
       "        <td>2014-09-02T09:15:00</td>\n",
       "        <td>0</td>\n",
       "        <td>31</td>\n",
       "        <td>-31</td>\n",
       "    </tr>\n",
       "    <tr>\n",
       "        <td>2</td>\n",
       "        <td>AC 0011</td>\n",
       "        <td>Introduction to Financial Accounting</td>\n",
       "        <td>Michael P.  Coyne</td>\n",
       "        <td>C01</td>\n",
       "        <td>[{&#x27;days&#x27;: &#x27;TF&#x27;, &#x27;times&#x27;: &#x27;0800am-0915am&#x27;, &#x27;dates&#x27;: &#x27;09/02-12/08&#x27;, &#x27;location&#x27;: &#x27;DSB 105&#x27;}]</td>\n",
       "        <td>[&#x27;TF 0800am-0915am 09/02-12/08 DSB 105&#x27;]</td>\n",
       "        <td>Fall2014</td>\n",
       "        <td>2014-09-05T08:00:00</td>\n",
       "        <td>2014-09-05T09:15:00</td>\n",
       "        <td>0</td>\n",
       "        <td>31</td>\n",
       "        <td>-31</td>\n",
       "    </tr>\n",
       "    <tr>\n",
       "        <td>3</td>\n",
       "        <td>AC 0011</td>\n",
       "        <td>Introduction to Financial Accounting</td>\n",
       "        <td>Michael P.  Coyne</td>\n",
       "        <td>C01</td>\n",
       "        <td>[{&#x27;days&#x27;: &#x27;TF&#x27;, &#x27;times&#x27;: &#x27;0800am-0915am&#x27;, &#x27;dates&#x27;: &#x27;09/02-12/08&#x27;, &#x27;location&#x27;: &#x27;DSB 105&#x27;}]</td>\n",
       "        <td>[&#x27;TF 0800am-0915am 09/02-12/08 DSB 105&#x27;]</td>\n",
       "        <td>Fall2014</td>\n",
       "        <td>2014-09-09T08:00:00</td>\n",
       "        <td>2014-09-09T09:15:00</td>\n",
       "        <td>0</td>\n",
       "        <td>31</td>\n",
       "        <td>-31</td>\n",
       "    </tr>\n",
       "    <tr>\n",
       "        <td>4</td>\n",
       "        <td>AC 0011</td>\n",
       "        <td>Introduction to Financial Accounting</td>\n",
       "        <td>Michael P.  Coyne</td>\n",
       "        <td>C01</td>\n",
       "        <td>[{&#x27;days&#x27;: &#x27;TF&#x27;, &#x27;times&#x27;: &#x27;0800am-0915am&#x27;, &#x27;dates&#x27;: &#x27;09/02-12/08&#x27;, &#x27;location&#x27;: &#x27;DSB 105&#x27;}]</td>\n",
       "        <td>[&#x27;TF 0800am-0915am 09/02-12/08 DSB 105&#x27;]</td>\n",
       "        <td>Fall2014</td>\n",
       "        <td>2014-09-12T08:00:00</td>\n",
       "        <td>2014-09-12T09:15:00</td>\n",
       "        <td>0</td>\n",
       "        <td>31</td>\n",
       "        <td>-31</td>\n",
       "    </tr>\n",
       "    <tr>\n",
       "        <td>5</td>\n",
       "        <td>AC 0011</td>\n",
       "        <td>Introduction to Financial Accounting</td>\n",
       "        <td>Michael P.  Coyne</td>\n",
       "        <td>C01</td>\n",
       "        <td>[{&#x27;days&#x27;: &#x27;TF&#x27;, &#x27;times&#x27;: &#x27;0800am-0915am&#x27;, &#x27;dates&#x27;: &#x27;09/02-12/08&#x27;, &#x27;location&#x27;: &#x27;DSB 105&#x27;}]</td>\n",
       "        <td>[&#x27;TF 0800am-0915am 09/02-12/08 DSB 105&#x27;]</td>\n",
       "        <td>Fall2014</td>\n",
       "        <td>2014-09-16T08:00:00</td>\n",
       "        <td>2014-09-16T09:15:00</td>\n",
       "        <td>0</td>\n",
       "        <td>31</td>\n",
       "        <td>-31</td>\n",
       "    </tr>\n",
       "</table>"
      ],
      "text/plain": [
       "[(1, 'AC 0011', 'Introduction to Financial Accounting', 'Michael P.  Coyne', 'C01', \"[{'days': 'TF', 'times': '0800am-0915am', 'dates': '09/02-12/08', 'location': 'DSB 105'}]\", \"['TF 0800am-0915am 09/02-12/08 DSB 105']\", 'Fall2014', '2014-09-02T08:00:00', '2014-09-02T09:15:00', 0, 31, -31),\n",
       " (2, 'AC 0011', 'Introduction to Financial Accounting', 'Michael P.  Coyne', 'C01', \"[{'days': 'TF', 'times': '0800am-0915am', 'dates': '09/02-12/08', 'location': 'DSB 105'}]\", \"['TF 0800am-0915am 09/02-12/08 DSB 105']\", 'Fall2014', '2014-09-05T08:00:00', '2014-09-05T09:15:00', 0, 31, -31),\n",
       " (3, 'AC 0011', 'Introduction to Financial Accounting', 'Michael P.  Coyne', 'C01', \"[{'days': 'TF', 'times': '0800am-0915am', 'dates': '09/02-12/08', 'location': 'DSB 105'}]\", \"['TF 0800am-0915am 09/02-12/08 DSB 105']\", 'Fall2014', '2014-09-09T08:00:00', '2014-09-09T09:15:00', 0, 31, -31),\n",
       " (4, 'AC 0011', 'Introduction to Financial Accounting', 'Michael P.  Coyne', 'C01', \"[{'days': 'TF', 'times': '0800am-0915am', 'dates': '09/02-12/08', 'location': 'DSB 105'}]\", \"['TF 0800am-0915am 09/02-12/08 DSB 105']\", 'Fall2014', '2014-09-12T08:00:00', '2014-09-12T09:15:00', 0, 31, -31),\n",
       " (5, 'AC 0011', 'Introduction to Financial Accounting', 'Michael P.  Coyne', 'C01', \"[{'days': 'TF', 'times': '0800am-0915am', 'dates': '09/02-12/08', 'location': 'DSB 105'}]\", \"['TF 0800am-0915am 09/02-12/08 DSB 105']\", 'Fall2014', '2014-09-16T08:00:00', '2014-09-16T09:15:00', 0, 31, -31)]"
      ]
     },
     "execution_count": 41,
     "metadata": {},
     "output_type": "execute_result"
    }
   ],
   "source": [
    "%%sql\n",
    "SELECT *\n",
    "FROM COURSE_OFFERING\n",
    "LIMIT 5"
   ]
  },
  {
   "cell_type": "code",
   "execution_count": 42,
   "metadata": {},
   "outputs": [
    {
     "name": "stdout",
     "output_type": "stream",
     "text": [
      " * sqlite:///CourseData.db\n",
      "0 rows affected.\n"
     ]
    },
    {
     "data": {
      "text/plain": [
       "[]"
      ]
     },
     "execution_count": 42,
     "metadata": {},
     "output_type": "execute_result"
    }
   ],
   "source": [
    "%%sql\n",
    "-- Ran into disc error and tested joins one-by-one\n",
    "-- SELECT DISTINCT catalog_id, title, primary_instructor, ProgramID\n",
    "-- FROM DataSet\n",
    "    -- JOIN COURSE_MEETING ON (COURSE_MEETING.CatalogID = DataSet.catalog_id)\n",
    "    -- JOIN INSTRUCTOR ON (INSTRUCTOR.InstructorName = DataSet.primary_instructor)\n",
    "    -- LEFT JOIN COURSE ON (COURSE.CatalogID = DataSet.catalog_id)\n",
    "-- LIMIT 5"
   ]
  },
  {
   "cell_type": "code",
   "execution_count": 43,
   "metadata": {},
   "outputs": [
    {
     "name": "stdout",
     "output_type": "stream",
     "text": [
      " * sqlite:///CourseData.db\n",
      "Done.\n"
     ]
    },
    {
     "data": {
      "text/html": [
       "<table>\n",
       "    <tr>\n",
       "        <th>CourseOfferingID</th>\n",
       "        <th>CatalogID</th>\n",
       "        <th>CourseTitle</th>\n",
       "        <th>InstructorName</th>\n",
       "        <th>Section</th>\n",
       "        <th>Meetings</th>\n",
       "        <th>Timecodes</th>\n",
       "        <th>Term</th>\n",
       "        <th>StartDay</th>\n",
       "        <th>End</th>\n",
       "        <th>Cap</th>\n",
       "        <th>Act</th>\n",
       "        <th>Rem</th>\n",
       "    </tr>\n",
       "    <tr>\n",
       "        <td>1</td>\n",
       "        <td>AC 0011</td>\n",
       "        <td>Introduction to Financial Accounting</td>\n",
       "        <td>Michael P.  Coyne</td>\n",
       "        <td>C01</td>\n",
       "        <td>[{&#x27;days&#x27;: &#x27;TF&#x27;, &#x27;times&#x27;: &#x27;0800am-0915am&#x27;, &#x27;dates&#x27;: &#x27;09/02-12/08&#x27;, &#x27;location&#x27;: &#x27;DSB 105&#x27;}]</td>\n",
       "        <td>[&#x27;TF 0800am-0915am 09/02-12/08 DSB 105&#x27;]</td>\n",
       "        <td>Fall2014</td>\n",
       "        <td>2014-09-02T08:00:00</td>\n",
       "        <td>2014-09-02T09:15:00</td>\n",
       "        <td>0</td>\n",
       "        <td>31</td>\n",
       "        <td>-31</td>\n",
       "    </tr>\n",
       "    <tr>\n",
       "        <td>2</td>\n",
       "        <td>AC 0011</td>\n",
       "        <td>Introduction to Financial Accounting</td>\n",
       "        <td>Michael P.  Coyne</td>\n",
       "        <td>C01</td>\n",
       "        <td>[{&#x27;days&#x27;: &#x27;TF&#x27;, &#x27;times&#x27;: &#x27;0800am-0915am&#x27;, &#x27;dates&#x27;: &#x27;09/02-12/08&#x27;, &#x27;location&#x27;: &#x27;DSB 105&#x27;}]</td>\n",
       "        <td>[&#x27;TF 0800am-0915am 09/02-12/08 DSB 105&#x27;]</td>\n",
       "        <td>Fall2014</td>\n",
       "        <td>2014-09-05T08:00:00</td>\n",
       "        <td>2014-09-05T09:15:00</td>\n",
       "        <td>0</td>\n",
       "        <td>31</td>\n",
       "        <td>-31</td>\n",
       "    </tr>\n",
       "    <tr>\n",
       "        <td>3</td>\n",
       "        <td>AC 0011</td>\n",
       "        <td>Introduction to Financial Accounting</td>\n",
       "        <td>Michael P.  Coyne</td>\n",
       "        <td>C01</td>\n",
       "        <td>[{&#x27;days&#x27;: &#x27;TF&#x27;, &#x27;times&#x27;: &#x27;0800am-0915am&#x27;, &#x27;dates&#x27;: &#x27;09/02-12/08&#x27;, &#x27;location&#x27;: &#x27;DSB 105&#x27;}]</td>\n",
       "        <td>[&#x27;TF 0800am-0915am 09/02-12/08 DSB 105&#x27;]</td>\n",
       "        <td>Fall2014</td>\n",
       "        <td>2014-09-09T08:00:00</td>\n",
       "        <td>2014-09-09T09:15:00</td>\n",
       "        <td>0</td>\n",
       "        <td>31</td>\n",
       "        <td>-31</td>\n",
       "    </tr>\n",
       "    <tr>\n",
       "        <td>4</td>\n",
       "        <td>AC 0011</td>\n",
       "        <td>Introduction to Financial Accounting</td>\n",
       "        <td>Michael P.  Coyne</td>\n",
       "        <td>C01</td>\n",
       "        <td>[{&#x27;days&#x27;: &#x27;TF&#x27;, &#x27;times&#x27;: &#x27;0800am-0915am&#x27;, &#x27;dates&#x27;: &#x27;09/02-12/08&#x27;, &#x27;location&#x27;: &#x27;DSB 105&#x27;}]</td>\n",
       "        <td>[&#x27;TF 0800am-0915am 09/02-12/08 DSB 105&#x27;]</td>\n",
       "        <td>Fall2014</td>\n",
       "        <td>2014-09-12T08:00:00</td>\n",
       "        <td>2014-09-12T09:15:00</td>\n",
       "        <td>0</td>\n",
       "        <td>31</td>\n",
       "        <td>-31</td>\n",
       "    </tr>\n",
       "    <tr>\n",
       "        <td>5</td>\n",
       "        <td>AC 0011</td>\n",
       "        <td>Introduction to Financial Accounting</td>\n",
       "        <td>Michael P.  Coyne</td>\n",
       "        <td>C01</td>\n",
       "        <td>[{&#x27;days&#x27;: &#x27;TF&#x27;, &#x27;times&#x27;: &#x27;0800am-0915am&#x27;, &#x27;dates&#x27;: &#x27;09/02-12/08&#x27;, &#x27;location&#x27;: &#x27;DSB 105&#x27;}]</td>\n",
       "        <td>[&#x27;TF 0800am-0915am 09/02-12/08 DSB 105&#x27;]</td>\n",
       "        <td>Fall2014</td>\n",
       "        <td>2014-09-16T08:00:00</td>\n",
       "        <td>2014-09-16T09:15:00</td>\n",
       "        <td>0</td>\n",
       "        <td>31</td>\n",
       "        <td>-31</td>\n",
       "    </tr>\n",
       "</table>"
      ],
      "text/plain": [
       "[(1, 'AC 0011', 'Introduction to Financial Accounting', 'Michael P.  Coyne', 'C01', \"[{'days': 'TF', 'times': '0800am-0915am', 'dates': '09/02-12/08', 'location': 'DSB 105'}]\", \"['TF 0800am-0915am 09/02-12/08 DSB 105']\", 'Fall2014', '2014-09-02T08:00:00', '2014-09-02T09:15:00', 0, 31, -31),\n",
       " (2, 'AC 0011', 'Introduction to Financial Accounting', 'Michael P.  Coyne', 'C01', \"[{'days': 'TF', 'times': '0800am-0915am', 'dates': '09/02-12/08', 'location': 'DSB 105'}]\", \"['TF 0800am-0915am 09/02-12/08 DSB 105']\", 'Fall2014', '2014-09-05T08:00:00', '2014-09-05T09:15:00', 0, 31, -31),\n",
       " (3, 'AC 0011', 'Introduction to Financial Accounting', 'Michael P.  Coyne', 'C01', \"[{'days': 'TF', 'times': '0800am-0915am', 'dates': '09/02-12/08', 'location': 'DSB 105'}]\", \"['TF 0800am-0915am 09/02-12/08 DSB 105']\", 'Fall2014', '2014-09-09T08:00:00', '2014-09-09T09:15:00', 0, 31, -31),\n",
       " (4, 'AC 0011', 'Introduction to Financial Accounting', 'Michael P.  Coyne', 'C01', \"[{'days': 'TF', 'times': '0800am-0915am', 'dates': '09/02-12/08', 'location': 'DSB 105'}]\", \"['TF 0800am-0915am 09/02-12/08 DSB 105']\", 'Fall2014', '2014-09-12T08:00:00', '2014-09-12T09:15:00', 0, 31, -31),\n",
       " (5, 'AC 0011', 'Introduction to Financial Accounting', 'Michael P.  Coyne', 'C01', \"[{'days': 'TF', 'times': '0800am-0915am', 'dates': '09/02-12/08', 'location': 'DSB 105'}]\", \"['TF 0800am-0915am 09/02-12/08 DSB 105']\", 'Fall2014', '2014-09-16T08:00:00', '2014-09-16T09:15:00', 0, 31, -31)]"
      ]
     },
     "execution_count": 43,
     "metadata": {},
     "output_type": "execute_result"
    }
   ],
   "source": [
    "%%sql\n",
    "SELECT *\n",
    "FROM COURSE_OFFERING\n",
    "LIMIT 5"
   ]
  },
  {
   "cell_type": "code",
   "execution_count": 44,
   "metadata": {},
   "outputs": [
    {
     "name": "stdout",
     "output_type": "stream",
     "text": [
      " * sqlite:///CourseData.db\n",
      "Done.\n"
     ]
    },
    {
     "data": {
      "text/html": [
       "<table>\n",
       "    <tr>\n",
       "        <th>CatalogID</th>\n",
       "        <th>CourseID</th>\n",
       "        <th>ProgramID</th>\n",
       "        <th>CourseTitle</th>\n",
       "        <th>Description</th>\n",
       "        <th>Attributes</th>\n",
       "        <th>Coreqs</th>\n",
       "        <th>Prereqs</th>\n",
       "        <th>Fees</th>\n",
       "        <th>Credits</th>\n",
       "    </tr>\n",
       "    <tr>\n",
       "        <td>AC 0011</td>\n",
       "        <td>1</td>\n",
       "        <td>2</td>\n",
       "        <td>Introduction to Financial Accounting</td>\n",
       "        <td>This course introduces students to financial accounting. Students learn to read and comprehend published financial statements and are introduced to the financial reporting process. Topics include financial statement analysis; accrual accounting; revenue and expense recognition; and accounting for assets, liabilities, and equities.</td>\n",
       "        <td>None</td>\n",
       "        <td>None</td>\n",
       "        <td>None</td>\n",
       "        <td>None</td>\n",
       "        <td>3</td>\n",
       "    </tr>\n",
       "    <tr>\n",
       "        <td>AC 0012</td>\n",
       "        <td>2</td>\n",
       "        <td>2</td>\n",
       "        <td>Introduction to Management Accounting</td>\n",
       "        <td>This course introduces students to managerial accounting and the role of accounting information in managerial decision-making. Topics include a description of basic cost elements; the interrelationship between fixed costs, variable costs, and profit; and methods of accumulating the costs associated with producing products and providing services (e.g., activity-based costing), so that students can make recommendations about performance evaluation, project evaluation and other management decisions.</td>\n",
       "        <td>None</td>\n",
       "        <td>None</td>\n",
       "        <td>AC 0011.</td>\n",
       "        <td>None</td>\n",
       "        <td>3</td>\n",
       "    </tr>\n",
       "    <tr>\n",
       "        <td>AC 0203</td>\n",
       "        <td>3</td>\n",
       "        <td>2</td>\n",
       "        <td>Intermediate Accounting I</td>\n",
       "        <td>This course provides an in-depth study of financial accounting theory and concepts, and the presentation of financial statements in conformity with Generally Accepted Accounting Principles (GAAP). The course emphasizes balance sheet valuations and their relationship to income measurement and determination.</td>\n",
       "        <td>None</td>\n",
       "        <td>None</td>\n",
       "        <td>AC 0011.</td>\n",
       "        <td>None</td>\n",
       "        <td>3</td>\n",
       "    </tr>\n",
       "    <tr>\n",
       "        <td>AC 0204</td>\n",
       "        <td>4</td>\n",
       "        <td>2</td>\n",
       "        <td>Intermediate Accounting II</td>\n",
       "        <td>This course continues the in-depth study of financial accounting theory and concepts, and the presentation of financial statements in conformity with Generally Accepted Accounting Principles (GAAP) begun in </td>\n",
       "        <td>None</td>\n",
       "        <td>None</td>\n",
       "        <td>AC 0203.</td>\n",
       "        <td>None</td>\n",
       "        <td>3</td>\n",
       "    </tr>\n",
       "    <tr>\n",
       "        <td>AC 0310</td>\n",
       "        <td>5</td>\n",
       "        <td>2</td>\n",
       "        <td>Advanced Accounting</td>\n",
       "        <td>This course focuses on accounting for various financial investments, including financial instruments, derivatives, and business combinations. Students also study the role of financial instruments in hedging foreign currency exposures and the complications encountered in financial reporting in a global environment.</td>\n",
       "        <td>None</td>\n",
       "        <td>None</td>\n",
       "        <td>AC 0204; junior or senior standing.</td>\n",
       "        <td>None</td>\n",
       "        <td>3</td>\n",
       "    </tr>\n",
       "</table>"
      ],
      "text/plain": [
       "[('AC 0011', 1, 2, 'Introduction to Financial Accounting', 'This course introduces students to financial accounting. Students learn to read and comprehend published financial statements and are introduced to t ... (34 characters truncated) ... pics include financial statement analysis; accrual accounting; revenue and expense recognition; and accounting for assets, liabilities, and equities.', None, None, None, None, 3),\n",
       " ('AC 0012', 2, 2, 'Introduction to Management Accounting', 'This course introduces students to managerial accounting and the role of accounting information in managerial decision-making. Topics include a descr ... (203 characters truncated) ... , activity-based costing), so that students can make recommendations about performance evaluation, project evaluation and other management decisions.', None, None, 'AC 0011.', None, 3),\n",
       " ('AC 0203', 3, 2, 'Intermediate Accounting I', 'This course provides an in-depth study of financial accounting theory and concepts, and the presentation of financial statements in conformity with G ... (9 characters truncated) ... Accepted Accounting Principles (GAAP). The course emphasizes balance sheet valuations and their relationship to income measurement and determination.', None, None, 'AC 0011.', None, 3),\n",
       " ('AC 0204', 4, 2, 'Intermediate Accounting II', 'This course continues the in-depth study of financial accounting theory and concepts, and the presentation of financial statements in conformity with Generally Accepted Accounting Principles (GAAP) begun in ', None, None, 'AC 0203.', None, 3),\n",
       " ('AC 0310', 5, 2, 'Advanced Accounting', 'This course focuses on accounting for various financial investments, including financial instruments, derivatives, and business combinations. Student ... (17 characters truncated) ... role of financial instruments in hedging foreign currency exposures and the complications encountered in financial reporting in a global environment.', None, None, 'AC 0204; junior or senior standing.', None, 3)]"
      ]
     },
     "execution_count": 44,
     "metadata": {},
     "output_type": "execute_result"
    }
   ],
   "source": [
    "%%sql\n",
    "SELECT *\n",
    "FROM COURSE\n",
    "\n",
    "LIMIT 5"
   ]
  },
  {
   "cell_type": "code",
   "execution_count": 45,
   "metadata": {},
   "outputs": [
    {
     "name": "stdout",
     "output_type": "stream",
     "text": [
      " * sqlite:///CourseData.db\n",
      "Done.\n"
     ]
    },
    {
     "data": {
      "text/html": [
       "<table>\n",
       "    <tr>\n",
       "        <th>CourseOfferingID</th>\n",
       "        <th>CatalogID</th>\n",
       "        <th>CourseTitle</th>\n",
       "        <th>InstructorName</th>\n",
       "        <th>Section</th>\n",
       "        <th>Meetings</th>\n",
       "        <th>Timecodes</th>\n",
       "        <th>Term</th>\n",
       "        <th>StartDay</th>\n",
       "        <th>End</th>\n",
       "        <th>Cap</th>\n",
       "        <th>Act</th>\n",
       "        <th>Rem</th>\n",
       "    </tr>\n",
       "    <tr>\n",
       "        <td>1</td>\n",
       "        <td>AC 0011</td>\n",
       "        <td>Introduction to Financial Accounting</td>\n",
       "        <td>Michael P.  Coyne</td>\n",
       "        <td>C01</td>\n",
       "        <td>[{&#x27;days&#x27;: &#x27;TF&#x27;, &#x27;times&#x27;: &#x27;0800am-0915am&#x27;, &#x27;dates&#x27;: &#x27;09/02-12/08&#x27;, &#x27;location&#x27;: &#x27;DSB 105&#x27;}]</td>\n",
       "        <td>[&#x27;TF 0800am-0915am 09/02-12/08 DSB 105&#x27;]</td>\n",
       "        <td>Fall2014</td>\n",
       "        <td>2014-09-02T08:00:00</td>\n",
       "        <td>2014-09-02T09:15:00</td>\n",
       "        <td>0</td>\n",
       "        <td>31</td>\n",
       "        <td>-31</td>\n",
       "    </tr>\n",
       "    <tr>\n",
       "        <td>2</td>\n",
       "        <td>AC 0011</td>\n",
       "        <td>Introduction to Financial Accounting</td>\n",
       "        <td>Michael P.  Coyne</td>\n",
       "        <td>C01</td>\n",
       "        <td>[{&#x27;days&#x27;: &#x27;TF&#x27;, &#x27;times&#x27;: &#x27;0800am-0915am&#x27;, &#x27;dates&#x27;: &#x27;09/02-12/08&#x27;, &#x27;location&#x27;: &#x27;DSB 105&#x27;}]</td>\n",
       "        <td>[&#x27;TF 0800am-0915am 09/02-12/08 DSB 105&#x27;]</td>\n",
       "        <td>Fall2014</td>\n",
       "        <td>2014-09-05T08:00:00</td>\n",
       "        <td>2014-09-05T09:15:00</td>\n",
       "        <td>0</td>\n",
       "        <td>31</td>\n",
       "        <td>-31</td>\n",
       "    </tr>\n",
       "    <tr>\n",
       "        <td>3</td>\n",
       "        <td>AC 0011</td>\n",
       "        <td>Introduction to Financial Accounting</td>\n",
       "        <td>Michael P.  Coyne</td>\n",
       "        <td>C01</td>\n",
       "        <td>[{&#x27;days&#x27;: &#x27;TF&#x27;, &#x27;times&#x27;: &#x27;0800am-0915am&#x27;, &#x27;dates&#x27;: &#x27;09/02-12/08&#x27;, &#x27;location&#x27;: &#x27;DSB 105&#x27;}]</td>\n",
       "        <td>[&#x27;TF 0800am-0915am 09/02-12/08 DSB 105&#x27;]</td>\n",
       "        <td>Fall2014</td>\n",
       "        <td>2014-09-09T08:00:00</td>\n",
       "        <td>2014-09-09T09:15:00</td>\n",
       "        <td>0</td>\n",
       "        <td>31</td>\n",
       "        <td>-31</td>\n",
       "    </tr>\n",
       "    <tr>\n",
       "        <td>4</td>\n",
       "        <td>AC 0011</td>\n",
       "        <td>Introduction to Financial Accounting</td>\n",
       "        <td>Michael P.  Coyne</td>\n",
       "        <td>C01</td>\n",
       "        <td>[{&#x27;days&#x27;: &#x27;TF&#x27;, &#x27;times&#x27;: &#x27;0800am-0915am&#x27;, &#x27;dates&#x27;: &#x27;09/02-12/08&#x27;, &#x27;location&#x27;: &#x27;DSB 105&#x27;}]</td>\n",
       "        <td>[&#x27;TF 0800am-0915am 09/02-12/08 DSB 105&#x27;]</td>\n",
       "        <td>Fall2014</td>\n",
       "        <td>2014-09-12T08:00:00</td>\n",
       "        <td>2014-09-12T09:15:00</td>\n",
       "        <td>0</td>\n",
       "        <td>31</td>\n",
       "        <td>-31</td>\n",
       "    </tr>\n",
       "    <tr>\n",
       "        <td>5</td>\n",
       "        <td>AC 0011</td>\n",
       "        <td>Introduction to Financial Accounting</td>\n",
       "        <td>Michael P.  Coyne</td>\n",
       "        <td>C01</td>\n",
       "        <td>[{&#x27;days&#x27;: &#x27;TF&#x27;, &#x27;times&#x27;: &#x27;0800am-0915am&#x27;, &#x27;dates&#x27;: &#x27;09/02-12/08&#x27;, &#x27;location&#x27;: &#x27;DSB 105&#x27;}]</td>\n",
       "        <td>[&#x27;TF 0800am-0915am 09/02-12/08 DSB 105&#x27;]</td>\n",
       "        <td>Fall2014</td>\n",
       "        <td>2014-09-16T08:00:00</td>\n",
       "        <td>2014-09-16T09:15:00</td>\n",
       "        <td>0</td>\n",
       "        <td>31</td>\n",
       "        <td>-31</td>\n",
       "    </tr>\n",
       "</table>"
      ],
      "text/plain": [
       "[(1, 'AC 0011', 'Introduction to Financial Accounting', 'Michael P.  Coyne', 'C01', \"[{'days': 'TF', 'times': '0800am-0915am', 'dates': '09/02-12/08', 'location': 'DSB 105'}]\", \"['TF 0800am-0915am 09/02-12/08 DSB 105']\", 'Fall2014', '2014-09-02T08:00:00', '2014-09-02T09:15:00', 0, 31, -31),\n",
       " (2, 'AC 0011', 'Introduction to Financial Accounting', 'Michael P.  Coyne', 'C01', \"[{'days': 'TF', 'times': '0800am-0915am', 'dates': '09/02-12/08', 'location': 'DSB 105'}]\", \"['TF 0800am-0915am 09/02-12/08 DSB 105']\", 'Fall2014', '2014-09-05T08:00:00', '2014-09-05T09:15:00', 0, 31, -31),\n",
       " (3, 'AC 0011', 'Introduction to Financial Accounting', 'Michael P.  Coyne', 'C01', \"[{'days': 'TF', 'times': '0800am-0915am', 'dates': '09/02-12/08', 'location': 'DSB 105'}]\", \"['TF 0800am-0915am 09/02-12/08 DSB 105']\", 'Fall2014', '2014-09-09T08:00:00', '2014-09-09T09:15:00', 0, 31, -31),\n",
       " (4, 'AC 0011', 'Introduction to Financial Accounting', 'Michael P.  Coyne', 'C01', \"[{'days': 'TF', 'times': '0800am-0915am', 'dates': '09/02-12/08', 'location': 'DSB 105'}]\", \"['TF 0800am-0915am 09/02-12/08 DSB 105']\", 'Fall2014', '2014-09-12T08:00:00', '2014-09-12T09:15:00', 0, 31, -31),\n",
       " (5, 'AC 0011', 'Introduction to Financial Accounting', 'Michael P.  Coyne', 'C01', \"[{'days': 'TF', 'times': '0800am-0915am', 'dates': '09/02-12/08', 'location': 'DSB 105'}]\", \"['TF 0800am-0915am 09/02-12/08 DSB 105']\", 'Fall2014', '2014-09-16T08:00:00', '2014-09-16T09:15:00', 0, 31, -31)]"
      ]
     },
     "execution_count": 45,
     "metadata": {},
     "output_type": "execute_result"
    }
   ],
   "source": [
    "%%sql\n",
    "\n",
    "SELECT *\n",
    "FROM COURSE_OFFERING\n",
    "WHERE CatalogID=\"AC 0011\"\n",
    "LIMIT 5\n"
   ]
  },
  {
   "cell_type": "code",
   "execution_count": 46,
   "metadata": {},
   "outputs": [
    {
     "name": "stdout",
     "output_type": "stream",
     "text": [
      " * sqlite:///CourseData.db\n",
      "Done.\n"
     ]
    },
    {
     "data": {
      "text/html": [
       "<table>\n",
       "    <tr>\n",
       "        <th>CourseOfferingID</th>\n",
       "        <th>CatalogID</th>\n",
       "        <th>CourseTitle</th>\n",
       "        <th>InstructorName</th>\n",
       "        <th>Section</th>\n",
       "        <th>Meetings</th>\n",
       "        <th>Timecodes</th>\n",
       "        <th>Term</th>\n",
       "        <th>StartDay</th>\n",
       "        <th>End</th>\n",
       "        <th>Cap</th>\n",
       "        <th>Act</th>\n",
       "        <th>Rem</th>\n",
       "    </tr>\n",
       "    <tr>\n",
       "        <td>1</td>\n",
       "        <td>AC 0011</td>\n",
       "        <td>Introduction to Financial Accounting</td>\n",
       "        <td>Michael P.  Coyne</td>\n",
       "        <td>C01</td>\n",
       "        <td>[{&#x27;days&#x27;: &#x27;TF&#x27;, &#x27;times&#x27;: &#x27;0800am-0915am&#x27;, &#x27;dates&#x27;: &#x27;09/02-12/08&#x27;, &#x27;location&#x27;: &#x27;DSB 105&#x27;}]</td>\n",
       "        <td>[&#x27;TF 0800am-0915am 09/02-12/08 DSB 105&#x27;]</td>\n",
       "        <td>Fall2014</td>\n",
       "        <td>2014-09-02T08:00:00</td>\n",
       "        <td>2014-09-02T09:15:00</td>\n",
       "        <td>0</td>\n",
       "        <td>31</td>\n",
       "        <td>-31</td>\n",
       "    </tr>\n",
       "    <tr>\n",
       "        <td>2</td>\n",
       "        <td>AC 0011</td>\n",
       "        <td>Introduction to Financial Accounting</td>\n",
       "        <td>Michael P.  Coyne</td>\n",
       "        <td>C01</td>\n",
       "        <td>[{&#x27;days&#x27;: &#x27;TF&#x27;, &#x27;times&#x27;: &#x27;0800am-0915am&#x27;, &#x27;dates&#x27;: &#x27;09/02-12/08&#x27;, &#x27;location&#x27;: &#x27;DSB 105&#x27;}]</td>\n",
       "        <td>[&#x27;TF 0800am-0915am 09/02-12/08 DSB 105&#x27;]</td>\n",
       "        <td>Fall2014</td>\n",
       "        <td>2014-09-05T08:00:00</td>\n",
       "        <td>2014-09-05T09:15:00</td>\n",
       "        <td>0</td>\n",
       "        <td>31</td>\n",
       "        <td>-31</td>\n",
       "    </tr>\n",
       "    <tr>\n",
       "        <td>3</td>\n",
       "        <td>AC 0011</td>\n",
       "        <td>Introduction to Financial Accounting</td>\n",
       "        <td>Michael P.  Coyne</td>\n",
       "        <td>C01</td>\n",
       "        <td>[{&#x27;days&#x27;: &#x27;TF&#x27;, &#x27;times&#x27;: &#x27;0800am-0915am&#x27;, &#x27;dates&#x27;: &#x27;09/02-12/08&#x27;, &#x27;location&#x27;: &#x27;DSB 105&#x27;}]</td>\n",
       "        <td>[&#x27;TF 0800am-0915am 09/02-12/08 DSB 105&#x27;]</td>\n",
       "        <td>Fall2014</td>\n",
       "        <td>2014-09-09T08:00:00</td>\n",
       "        <td>2014-09-09T09:15:00</td>\n",
       "        <td>0</td>\n",
       "        <td>31</td>\n",
       "        <td>-31</td>\n",
       "    </tr>\n",
       "    <tr>\n",
       "        <td>4</td>\n",
       "        <td>AC 0011</td>\n",
       "        <td>Introduction to Financial Accounting</td>\n",
       "        <td>Michael P.  Coyne</td>\n",
       "        <td>C01</td>\n",
       "        <td>[{&#x27;days&#x27;: &#x27;TF&#x27;, &#x27;times&#x27;: &#x27;0800am-0915am&#x27;, &#x27;dates&#x27;: &#x27;09/02-12/08&#x27;, &#x27;location&#x27;: &#x27;DSB 105&#x27;}]</td>\n",
       "        <td>[&#x27;TF 0800am-0915am 09/02-12/08 DSB 105&#x27;]</td>\n",
       "        <td>Fall2014</td>\n",
       "        <td>2014-09-12T08:00:00</td>\n",
       "        <td>2014-09-12T09:15:00</td>\n",
       "        <td>0</td>\n",
       "        <td>31</td>\n",
       "        <td>-31</td>\n",
       "    </tr>\n",
       "    <tr>\n",
       "        <td>5</td>\n",
       "        <td>AC 0011</td>\n",
       "        <td>Introduction to Financial Accounting</td>\n",
       "        <td>Michael P.  Coyne</td>\n",
       "        <td>C01</td>\n",
       "        <td>[{&#x27;days&#x27;: &#x27;TF&#x27;, &#x27;times&#x27;: &#x27;0800am-0915am&#x27;, &#x27;dates&#x27;: &#x27;09/02-12/08&#x27;, &#x27;location&#x27;: &#x27;DSB 105&#x27;}]</td>\n",
       "        <td>[&#x27;TF 0800am-0915am 09/02-12/08 DSB 105&#x27;]</td>\n",
       "        <td>Fall2014</td>\n",
       "        <td>2014-09-16T08:00:00</td>\n",
       "        <td>2014-09-16T09:15:00</td>\n",
       "        <td>0</td>\n",
       "        <td>31</td>\n",
       "        <td>-31</td>\n",
       "    </tr>\n",
       "</table>"
      ],
      "text/plain": [
       "[(1, 'AC 0011', 'Introduction to Financial Accounting', 'Michael P.  Coyne', 'C01', \"[{'days': 'TF', 'times': '0800am-0915am', 'dates': '09/02-12/08', 'location': 'DSB 105'}]\", \"['TF 0800am-0915am 09/02-12/08 DSB 105']\", 'Fall2014', '2014-09-02T08:00:00', '2014-09-02T09:15:00', 0, 31, -31),\n",
       " (2, 'AC 0011', 'Introduction to Financial Accounting', 'Michael P.  Coyne', 'C01', \"[{'days': 'TF', 'times': '0800am-0915am', 'dates': '09/02-12/08', 'location': 'DSB 105'}]\", \"['TF 0800am-0915am 09/02-12/08 DSB 105']\", 'Fall2014', '2014-09-05T08:00:00', '2014-09-05T09:15:00', 0, 31, -31),\n",
       " (3, 'AC 0011', 'Introduction to Financial Accounting', 'Michael P.  Coyne', 'C01', \"[{'days': 'TF', 'times': '0800am-0915am', 'dates': '09/02-12/08', 'location': 'DSB 105'}]\", \"['TF 0800am-0915am 09/02-12/08 DSB 105']\", 'Fall2014', '2014-09-09T08:00:00', '2014-09-09T09:15:00', 0, 31, -31),\n",
       " (4, 'AC 0011', 'Introduction to Financial Accounting', 'Michael P.  Coyne', 'C01', \"[{'days': 'TF', 'times': '0800am-0915am', 'dates': '09/02-12/08', 'location': 'DSB 105'}]\", \"['TF 0800am-0915am 09/02-12/08 DSB 105']\", 'Fall2014', '2014-09-12T08:00:00', '2014-09-12T09:15:00', 0, 31, -31),\n",
       " (5, 'AC 0011', 'Introduction to Financial Accounting', 'Michael P.  Coyne', 'C01', \"[{'days': 'TF', 'times': '0800am-0915am', 'dates': '09/02-12/08', 'location': 'DSB 105'}]\", \"['TF 0800am-0915am 09/02-12/08 DSB 105']\", 'Fall2014', '2014-09-16T08:00:00', '2014-09-16T09:15:00', 0, 31, -31)]"
      ]
     },
     "execution_count": 46,
     "metadata": {},
     "output_type": "execute_result"
    }
   ],
   "source": [
    "%%sql\n",
    "\n",
    "SELECT *\n",
    "FROM COURSE_OFFERING\n",
    "WHERE CatalogID=\"AC 0011\"\n",
    "LIMIT 5"
   ]
  },
  {
   "cell_type": "code",
   "execution_count": 47,
   "metadata": {},
   "outputs": [
    {
     "name": "stdout",
     "output_type": "stream",
     "text": [
      " * sqlite:///CourseData.db\n",
      "Done.\n"
     ]
    },
    {
     "data": {
      "text/html": [
       "<table>\n",
       "    <tr>\n",
       "        <th>CourseMeetingID</th>\n",
       "        <th>CatalogID</th>\n",
       "        <th>Location</th>\n",
       "        <th>StartDateTime</th>\n",
       "        <th>EndDateTime</th>\n",
       "    </tr>\n",
       "    <tr>\n",
       "        <td>1</td>\n",
       "        <td>AC 0011</td>\n",
       "        <td>DSB 105</td>\n",
       "        <td>2014-09-02T08:00:00</td>\n",
       "        <td>2014-09-02T09:15:00</td>\n",
       "    </tr>\n",
       "    <tr>\n",
       "        <td>2</td>\n",
       "        <td>AC 0011</td>\n",
       "        <td>DSB 105</td>\n",
       "        <td>2014-09-05T08:00:00</td>\n",
       "        <td>2014-09-05T09:15:00</td>\n",
       "    </tr>\n",
       "    <tr>\n",
       "        <td>3</td>\n",
       "        <td>AC 0011</td>\n",
       "        <td>DSB 105</td>\n",
       "        <td>2014-09-09T08:00:00</td>\n",
       "        <td>2014-09-09T09:15:00</td>\n",
       "    </tr>\n",
       "    <tr>\n",
       "        <td>4</td>\n",
       "        <td>AC 0011</td>\n",
       "        <td>DSB 105</td>\n",
       "        <td>2014-09-12T08:00:00</td>\n",
       "        <td>2014-09-12T09:15:00</td>\n",
       "    </tr>\n",
       "    <tr>\n",
       "        <td>5</td>\n",
       "        <td>AC 0011</td>\n",
       "        <td>DSB 105</td>\n",
       "        <td>2014-09-16T08:00:00</td>\n",
       "        <td>2014-09-16T09:15:00</td>\n",
       "    </tr>\n",
       "</table>"
      ],
      "text/plain": [
       "[(1, 'AC 0011', 'DSB 105', '2014-09-02T08:00:00', '2014-09-02T09:15:00'),\n",
       " (2, 'AC 0011', 'DSB 105', '2014-09-05T08:00:00', '2014-09-05T09:15:00'),\n",
       " (3, 'AC 0011', 'DSB 105', '2014-09-09T08:00:00', '2014-09-09T09:15:00'),\n",
       " (4, 'AC 0011', 'DSB 105', '2014-09-12T08:00:00', '2014-09-12T09:15:00'),\n",
       " (5, 'AC 0011', 'DSB 105', '2014-09-16T08:00:00', '2014-09-16T09:15:00')]"
      ]
     },
     "execution_count": 47,
     "metadata": {},
     "output_type": "execute_result"
    }
   ],
   "source": [
    "%%sql\n",
    "SELECT *\n",
    "FROM COURSE_MEETING\n",
    "LIMIT 5\n"
   ]
  },
  {
   "cell_type": "code",
   "execution_count": 48,
   "metadata": {},
   "outputs": [
    {
     "name": "stdout",
     "output_type": "stream",
     "text": [
      " * sqlite:///CourseData.db\n",
      "Done.\n"
     ]
    },
    {
     "data": {
      "text/html": [
       "<table>\n",
       "    <tr>\n",
       "        <th>CatalogCourses</th>\n",
       "        <th>CourseOfferings</th>\n",
       "        <th>CourseMeetings</th>\n",
       "    </tr>\n",
       "    <tr>\n",
       "        <td>1972</td>\n",
       "        <td>283781</td>\n",
       "        <td>280529</td>\n",
       "    </tr>\n",
       "</table>"
      ],
      "text/plain": [
       "[(1972, 283781, 280529)]"
      ]
     },
     "execution_count": 48,
     "metadata": {},
     "output_type": "execute_result"
    }
   ],
   "source": [
    "%%sql\n",
    "SELECT \n",
    "    (SELECT Count(*) FROM COURSE) as CatalogCourses,\n",
    "    (SELECT Count(*) FROM COURSE_OFFERING) as CourseOfferings,\n",
    "    (SELECT Count(*) FROM COURSE_MEETING) as CourseMeetings;"
   ]
  },
  {
   "cell_type": "code",
   "execution_count": 49,
   "metadata": {},
   "outputs": [
    {
     "name": "stdout",
     "output_type": "stream",
     "text": [
      " * sqlite:///CourseData.db\n",
      "284925 rows affected.\n"
     ]
    },
    {
     "data": {
      "text/plain": [
       "[]"
      ]
     },
     "execution_count": 49,
     "metadata": {},
     "output_type": "execute_result"
    }
   ],
   "source": [
    "%%sql\n",
    "DELETE FROM DataSet;"
   ]
  },
  {
   "cell_type": "code",
   "execution_count": 50,
   "metadata": {},
   "outputs": [
    {
     "name": "stdout",
     "output_type": "stream",
     "text": [
      " * sqlite:///CourseData.db\n",
      "Done.\n"
     ]
    },
    {
     "data": {
      "text/plain": [
       "[]"
      ]
     },
     "execution_count": 50,
     "metadata": {},
     "output_type": "execute_result"
    }
   ],
   "source": [
    "%%sql\n",
    "DROP TABLE DataSet;"
   ]
  },
  {
   "cell_type": "code",
   "execution_count": 52,
   "metadata": {},
   "outputs": [
    {
     "name": "stdout",
     "output_type": "stream",
     "text": [
      " * sqlite:///CourseData.db\n",
      "Done.\n"
     ]
    },
    {
     "data": {
      "text/plain": [
       "[]"
      ]
     },
     "execution_count": 52,
     "metadata": {},
     "output_type": "execute_result"
    }
   ],
   "source": [
    "%%sql\n",
    "vacuum;"
   ]
  },
  {
   "cell_type": "code",
   "execution_count": null,
   "metadata": {},
   "outputs": [],
   "source": []
  }
 ],
 "metadata": {
  "kernelspec": {
   "display_name": "Python 3",
   "language": "python",
   "name": "python3"
  },
  "language_info": {
   "codemirror_mode": {
    "name": "ipython",
    "version": 3
   },
   "file_extension": ".py",
   "mimetype": "text/x-python",
   "name": "python",
   "nbconvert_exporter": "python",
   "pygments_lexer": "ipython3",
   "version": "3.6.7"
  }
 },
 "nbformat": 4,
 "nbformat_minor": 4
}
