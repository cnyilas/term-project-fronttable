{
 "cells": [
  {
   "cell_type": "code",
   "execution_count": 1,
   "metadata": {},
   "outputs": [
    {
     "data": {
      "text/plain": [
       "'Connected: @Course_DW.db'"
      ]
     },
     "execution_count": 1,
     "metadata": {},
     "output_type": "execute_result"
    }
   ],
   "source": [
    "\n",
    "%load_ext sql\n",
    "\n",
    "import pandas as pd\n",
    "import sqlite3\n",
    "%sql sqlite:///Course_DW.db "
   ]
  },
  {
   "cell_type": "code",
   "execution_count": 2,
   "metadata": {},
   "outputs": [
    {
     "name": "stdout",
     "output_type": "stream",
     "text": [
      " * sqlite:///Course_DW.db\n",
      "Done.\n"
     ]
    },
    {
     "data": {
      "text/plain": [
       "[]"
      ]
     },
     "execution_count": 2,
     "metadata": {},
     "output_type": "execute_result"
    }
   ],
   "source": [
    "%%sql\n",
    "ATTACH DATABASE 'CourseData.db' AS cd"
   ]
  },
  {
   "cell_type": "code",
   "execution_count": 3,
   "metadata": {},
   "outputs": [
    {
     "name": "stdout",
     "output_type": "stream",
     "text": [
      " * sqlite:///Course_DW.db\n",
      "Done.\n"
     ]
    },
    {
     "data": {
      "text/html": [
       "<table>\n",
       "    <tr>\n",
       "        <th>ProgramID</th>\n",
       "        <th>ProgramCode</th>\n",
       "        <th>ProgramName</th>\n",
       "    </tr>\n",
       "    <tr>\n",
       "        <td>1</td>\n",
       "        <td>None</td>\n",
       "        <td>None</td>\n",
       "    </tr>\n",
       "    <tr>\n",
       "        <td>2</td>\n",
       "        <td>AC</td>\n",
       "        <td>Accounting</td>\n",
       "    </tr>\n",
       "    <tr>\n",
       "        <td>3</td>\n",
       "        <td>AE</td>\n",
       "        <td>Applied Ethics</td>\n",
       "    </tr>\n",
       "    <tr>\n",
       "        <td>4</td>\n",
       "        <td>AH</td>\n",
       "        <td>Art History</td>\n",
       "    </tr>\n",
       "    <tr>\n",
       "        <td>5</td>\n",
       "        <td>AN</td>\n",
       "        <td>Asian Studies</td>\n",
       "    </tr>\n",
       "</table>"
      ],
      "text/plain": [
       "[(1, None, None),\n",
       " (2, 'AC', 'Accounting'),\n",
       " (3, 'AE', 'Applied Ethics'),\n",
       " (4, 'AH', 'Art History'),\n",
       " (5, 'AN', 'Asian Studies')]"
      ]
     },
     "execution_count": 3,
     "metadata": {},
     "output_type": "execute_result"
    }
   ],
   "source": [
    "%%sql\n",
    "SELECT *\n",
    "FROM cd.PROGRAM\n",
    "LIMIT 5"
   ]
  },
  {
   "cell_type": "code",
   "execution_count": 4,
   "metadata": {},
   "outputs": [
    {
     "name": "stdout",
     "output_type": "stream",
     "text": [
      " * sqlite:///Course_DW.db\n",
      "Done.\n",
      "Done.\n",
      "Done.\n",
      "Done.\n",
      "Done.\n",
      "Done.\n",
      "Done.\n",
      "Done.\n",
      "Done.\n",
      "Done.\n"
     ]
    },
    {
     "data": {
      "text/plain": [
       "[]"
      ]
     },
     "execution_count": 4,
     "metadata": {},
     "output_type": "execute_result"
    }
   ],
   "source": [
    "%%sql\n",
    "\n",
    "DROP TABLE IF EXISTS LOCATION1;\n",
    "CREATE TABLE LOCATION1 (\n",
    "    LocationID INTEGER PRIMARY KEY,\n",
    "    Location_Code TEXT,\n",
    "    Building TEXT,\n",
    "    Room TEXT\n",
    ");\n",
    "\n",
    "DROP TABLE IF EXISTS INSTRUCTOR1;\n",
    "CREATE TABLE INSTRUCTOR1 (\n",
    "    InstructorID INTEGER PRIMARY KEY,\n",
    "    InstructorName TEXT \n",
    ");\n",
    "\n",
    "DROP TABLE IF EXISTS PROGRAM1;\n",
    "CREATE TABLE PROGRAM1 (\n",
    "    ProgramID INTEGER PRIMARY KEY,\n",
    "    ProgramCode TEXT,\n",
    "    ProgramName TEXT\n",
    ");\n",
    "\n",
    "DROP TABLE IF EXISTS COURSE1;\n",
    "CREATE TABLE COURSE1 (\n",
    "    CatalogID TEXT,\n",
    "    CourseID INTEGER PRIMARY KEY,\n",
    "    ProgramID INTEGER NOT NULL,\n",
    "    CourseTitle TEXT NOT NULL,\n",
    "    Description TEXT,\n",
    "    Attributes TEXT,\n",
    "    Coreqs TEXT,\n",
    "    Prereqs TEXT,\n",
    "    Fees TEXT,\n",
    "    Credits INTEGER NOT NULL,\n",
    "    FOREIGN KEY (ProgramID) REFERENCES PROGRAM (ProgramID)\n",
    ");\n",
    "\n",
    "DROP TABLE IF EXISTS COURSE_MEETING1;\n",
    "CREATE TABLE COURSE_MEETING1 (\n",
    "    CourseMeetingID INTEGER PRIMARY KEY,\n",
    "    CatalogID TEXT,\n",
    "    Location TEXT,\n",
    "    StartDateTime TEXT,\n",
    "    EndDateTime TEXT,\n",
    "    FOREIGN KEY (Location) REFERENCES LOCATION (Location)\n",
    ");"
   ]
  },
  {
   "cell_type": "code",
   "execution_count": 6,
   "metadata": {},
   "outputs": [
    {
     "name": "stdout",
     "output_type": "stream",
     "text": [
      " * sqlite:///Course_DW.db\n",
      "0 rows affected.\n",
      "207 rows affected.\n"
     ]
    },
    {
     "data": {
      "text/plain": [
       "[]"
      ]
     },
     "execution_count": 6,
     "metadata": {},
     "output_type": "execute_result"
    }
   ],
   "source": [
    "%%sql\n",
    "DELETE FROM LOCATION1;\n",
    "INSERT INTO LOCATION1 (Location_Code, Building, Room)\n",
    "SELECT Location_Code, Building, Room\n",
    "FROM cd.LOCATION;"
   ]
  },
  {
   "cell_type": "code",
   "execution_count": 9,
   "metadata": {},
   "outputs": [
    {
     "name": "stdout",
     "output_type": "stream",
     "text": [
      " * sqlite:///Course_DW.db\n",
      "0 rows affected.\n",
      "1048 rows affected.\n"
     ]
    },
    {
     "data": {
      "text/plain": [
       "[]"
      ]
     },
     "execution_count": 9,
     "metadata": {},
     "output_type": "execute_result"
    }
   ],
   "source": [
    "%%sql\n",
    "DELETE FROM INSTRUCTOR1;\n",
    "\n",
    "INSERT INTO INSTRUCTOR1 (InstructorName)\n",
    "SELECT DISTINCT InstructorName\n",
    "FROM cd.INSTRUCTOR;"
   ]
  },
  {
   "cell_type": "code",
   "execution_count": 11,
   "metadata": {},
   "outputs": [
    {
     "name": "stdout",
     "output_type": "stream",
     "text": [
      " * sqlite:///Course_DW.db\n",
      "0 rows affected.\n",
      "81 rows affected.\n"
     ]
    },
    {
     "data": {
      "text/plain": [
       "[]"
      ]
     },
     "execution_count": 11,
     "metadata": {},
     "output_type": "execute_result"
    }
   ],
   "source": [
    "%%sql\n",
    "DELETE FROM PROGRAM1;\n",
    "\n",
    "INSERT INTO PROGRAM1  (ProgramCode, ProgramName)\n",
    "SELECT DISTINCT ProgramCode, ProgramName\n",
    "FROM cd.PROGRAM;"
   ]
  },
  {
   "cell_type": "code",
   "execution_count": 22,
   "metadata": {},
   "outputs": [
    {
     "name": "stdout",
     "output_type": "stream",
     "text": [
      " * sqlite:///Course_DW.db\n",
      "0 rows affected.\n",
      "1972 rows affected.\n"
     ]
    },
    {
     "data": {
      "text/plain": [
       "[]"
      ]
     },
     "execution_count": 22,
     "metadata": {},
     "output_type": "execute_result"
    }
   ],
   "source": [
    "%%sql\n",
    "DELETE FROM COURSE1;\n",
    "\n",
    "INSERT INTO COURSE1 (CatalogID, ProgramID, CourseTitle, Description, Attributes, Coreqs, Prereqs, Fees, Credits)\n",
    "SELECT DISTINCT CatalogID, COURSE.ProgramID, CourseTitle, Description, Attributes, Coreqs, Prereqs, Fees, Credits\n",
    "FROM cd.COURSE"
   ]
  },
  {
   "cell_type": "code",
   "execution_count": 26,
   "metadata": {},
   "outputs": [
    {
     "name": "stdout",
     "output_type": "stream",
     "text": [
      " * sqlite:///Course_DW.db\n",
      "0 rows affected.\n",
      "280529 rows affected.\n"
     ]
    },
    {
     "data": {
      "text/plain": [
       "[]"
      ]
     },
     "execution_count": 26,
     "metadata": {},
     "output_type": "execute_result"
    }
   ],
   "source": [
    "%%sql\n",
    "DELETE FROM COURSE_MEETING1;\n",
    "\n",
    "INSERT INTO COURSE_MEETING1 (CatalogID, Location, StartDateTime, EndDateTime)\n",
    "SELECT DISTINCT CatalogID, Location, StartDateTime, EndDateTime\n",
    "FROM cd.COURSE_MEETING"
   ]
  },
  {
   "cell_type": "code",
   "execution_count": 27,
   "metadata": {},
   "outputs": [
    {
     "name": "stdout",
     "output_type": "stream",
     "text": [
      " * sqlite:///Course_DW.db\n",
      "Done.\n",
      "Done.\n"
     ]
    },
    {
     "data": {
      "text/plain": [
       "[]"
      ]
     },
     "execution_count": 27,
     "metadata": {},
     "output_type": "execute_result"
    }
   ],
   "source": [
    "%%sql\n",
    "--FACT TABLE\n",
    "\n",
    "DROP TABLE IF EXISTS COURSE_OFFERING1;\n",
    "CREATE TABLE COURSE_OFFERING1 (\n",
    "    CourseOfferingID INTEGER PRIMARY KEY,\n",
    "    CatalogID TEXT NOT NULL,\n",
    "    CourseTitle TEXT NOT NULL,\n",
    "    InstructorName TEXT NOT NULL,\n",
    "    Section TEXT, \n",
    "    Meetings TEXT NOT NULL,\n",
    "    Timecodes TEXT NOT NULL,\n",
    "    Term TEXT NOT NULL,\n",
    "    StartDay TEXT NOT NULL,\n",
    "    End TEXT NOT NULL,    \n",
    "    Cap INTEGER NOT NULL,\n",
    "    Act INTEGER NOT NULL,\n",
    "    Rem INTEGER NOT NULL,\n",
    "    FOREIGN KEY (CatalogID) REFERENCES COURSE_MEETING1 (CatalogID)\n",
    "    FOREIGN KEY (InstructorName) REFERENCES INSTRUCTOR1 \n",
    "    (InstructorName)\n",
    "    FOREIGN KEY (CourseTitle) REFERENCES COURSE1 (CourseTitle)\n",
    ");\n",
    "\n"
   ]
  },
  {
   "cell_type": "code",
   "execution_count": null,
   "metadata": {},
   "outputs": [],
   "source": [
    "%%sql\n",
    "DELETE FROM CLASS_STATISTICS;\n",
    "INSERT INTO CLASS_STATISTICS (Term_id, Instructor_id, Program_id, Course_id, Location_id, crn, Cap, Act, Rem, Meeting_times, Meeting_hours)\n",
    "    SELECT DISTINCT TERM1.Term_id, coursedata.CLASS.Instructor_id, coursedata.COURSE.Program_id, coursedata.COURSE.Course_id,\n",
    "            coursedata.MEETING.Location_id,  crn, Cap, Act, Rem,\n",
    "        \n",
    "            COUNT(coursedata.MEETING.Class_id) AS Meeting_times, \n",
    "           sum(strftime('%H:%M',coursedata.MEETING.End) - strftime('%H:%M',coursedata.MEETING.Start))AS Meeting_hours\n",
    "        \n",
    "    FROM coursedata.CLASS\n",
    "        LEFT JOIN coursedata.COURSE ON (coursedata.COURSE.CatalogID = coursedata.CLASS.CatalogID)\n",
    "        LEFT JOIN coursedata.MEETING ON (coursedata.CLASS.Class_id = coursedata.MEETING.Class_id)\n",
    "        LEFT JOIN TERM1 USING(Term)\n",
    "        WHERE coursedata.COURSE.Catalog_year <> '2018_2019'\n",
    "    GROUP BY coursedata.MEETING.Class_id"
   ]
  },
  {
   "cell_type": "code",
   "execution_count": 39,
   "metadata": {},
   "outputs": [
    {
     "name": "stdout",
     "output_type": "stream",
     "text": [
      " * sqlite:///Course_DW.db\n",
      "0 rows affected.\n",
      "(sqlite3.OperationalError) no such column: cd.COURSE.CatalogID\n",
      "[SQL: INSERT INTO COURSE_OFFERING1 (CatalogID, CourseTitle, InstructorName, Section, Meetings, TimeCodes, Term, StartDay, End, Cap, Act, Rem)\n",
      "SELECT DISTINCT cd.COURSE.CatalogID, cd.COURSE.CourseTitle, cd.INSTRUCTOR.InstructorName, Section, Meetings, TimeCodes, Term, StartDay, End, Cap, Act, Rem\n",
      "FROM cd.COURSE_OFFERING\n",
      "     -- JOIN COURSE_MEETING1 ON (cd.COURSE_MEETING1.CatalogID = cd.CatalogID)\n",
      "     -- JOIN INSTRUCTOR1 ON (cd.INSTRUCTOR1.InstructorName = cd.InstructorName)\n",
      "     -- LEFT JOIN COURSE1 ON (cd.COURSE1.CatalogID = cd.CatalogID)]\n",
      "(Background on this error at: http://sqlalche.me/e/e3q8)\n"
     ]
    }
   ],
   "source": [
    "%%sql\n",
    "DELETE FROM COURSE_OFFERING1;\n",
    "\n",
    "INSERT INTO COURSE_OFFERING1 (CatalogID, CourseTitle, InstructorName, Section, Meetings, TimeCodes, Term, StartDay, End, Cap, Act, Rem)\n",
    "SELECT DISTINCT cd.COURSE.CatalogID, cd.COURSE.CourseTitle, cd.INSTRUCTOR.InstructorName, Section, Meetings, TimeCodes, Term, StartDay, End, Cap, Act, Rem\n",
    "FROM cd.COURSE_OFFERING\n",
    "     -- JOIN COURSE_MEETING1 ON (cd.COURSE_MEETING1.CatalogID = cd.CatalogID)\n",
    "     -- JOIN INSTRUCTOR1 ON (cd.INSTRUCTOR1.InstructorName = cd.InstructorName)\n",
    "     -- LEFT JOIN COURSE1 ON (cd.COURSE1.CatalogID = cd.CatalogID)"
   ]
  },
  {
   "cell_type": "code",
   "execution_count": 7,
   "metadata": {},
   "outputs": [
    {
     "name": "stdout",
     "output_type": "stream",
     "text": [
      " * sqlite:///Course_DW.db\n",
      "Done.\n",
      "Done.\n"
     ]
    },
    {
     "data": {
      "text/plain": [
       "[]"
      ]
     },
     "execution_count": 7,
     "metadata": {},
     "output_type": "execute_result"
    }
   ],
   "source": [
    "%%sql\n",
    "DROP TABLE IF EXISTS PROGRAM1;\n",
    "CREATE TABLE PROGRAM1 (\n",
    "    ProgramID INTEGER PRIMARY KEY,\n",
    "    ProgramCode TEXT,\n",
    "    ProgramName TEXT\n",
    ");"
   ]
  },
  {
   "cell_type": "code",
   "execution_count": null,
   "metadata": {},
   "outputs": [],
   "source": [
    "%%sql\n",
    "\n",
    "DROP TABLE IF EXISTS COURSE1;\n",
    "CREATE TABLE COURSE1 (\n",
    "    CatalogID TEXT,\n",
    "    CourseID INTEGER PRIMARY KEY,\n",
    "    ProgramID INTEGER NOT NULL,\n",
    "    CourseTitle TEXT NOT NULL,\n",
    "    Description TEXT,\n",
    "    Attributes TEXT,\n",
    "    Coreqs TEXT,\n",
    "    Prereqs TEXT,\n",
    "    Fees TEXT,\n",
    "    Credits INTEGER NOT NULL,\n",
    "    FOREIGN KEY (ProgramID) REFERENCES PROGRAM (ProgramID)\n",
    ");"
   ]
  },
  {
   "cell_type": "code",
   "execution_count": null,
   "metadata": {},
   "outputs": [],
   "source": [
    "%%sql\n",
    "\n",
    "DROP TABLE IF EXISTS COURSE_MEETING;\n",
    "CREATE TABLE COURSE_MEETING (\n",
    "    CourseMeetingID INTEGER PRIMARY KEY,\n",
    "    CatalogID TEXT,\n",
    "    Location TEXT,\n",
    "    StartDateTime TEXT,\n",
    "    EndDateTime TEXT,\n",
    "    FOREIGN KEY (Location) REFERENCES LOCATION (Location)\n",
    ");"
   ]
  },
  {
   "cell_type": "code",
   "execution_count": 44,
   "metadata": {},
   "outputs": [
    {
     "name": "stdout",
     "output_type": "stream",
     "text": [
      " * sqlite:///Course_DW.db\n",
      "Done.\n"
     ]
    },
    {
     "data": {
      "text/plain": [
       "[]"
      ]
     },
     "execution_count": 44,
     "metadata": {},
     "output_type": "execute_result"
    }
   ],
   "source": [
    "%%sql\n",
    "vacuum;"
   ]
  },
  {
   "cell_type": "code",
   "execution_count": null,
   "metadata": {},
   "outputs": [],
   "source": []
  }
 ],
 "metadata": {
  "kernelspec": {
   "display_name": "Python 3",
   "language": "python",
   "name": "python3"
  },
  "language_info": {
   "codemirror_mode": {
    "name": "ipython",
    "version": 3
   },
   "file_extension": ".py",
   "mimetype": "text/x-python",
   "name": "python",
   "nbconvert_exporter": "python",
   "pygments_lexer": "ipython3",
   "version": "3.6.7"
  }
 },
 "nbformat": 4,
 "nbformat_minor": 4
}
