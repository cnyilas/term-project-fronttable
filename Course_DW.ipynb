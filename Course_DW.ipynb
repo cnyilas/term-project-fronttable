{
 "cells": [
  {
   "cell_type": "code",
   "execution_count": 1,
   "metadata": {},
   "outputs": [
    {
     "data": {
      "text/plain": [
       "'Connected: @Course_DW.db'"
      ]
     },
     "execution_count": 1,
     "metadata": {},
     "output_type": "execute_result"
    }
   ],
   "source": [
    "\n",
    "%load_ext sql\n",
    "\n",
    "import pandas as pd\n",
    "import sqlite3\n",
    "%sql sqlite:///Course_DW.db "
   ]
  },
  {
   "cell_type": "code",
   "execution_count": 2,
   "metadata": {},
   "outputs": [
    {
     "name": "stdout",
     "output_type": "stream",
     "text": [
      " * sqlite:///Course_DW.db\n",
      "Done.\n"
     ]
    },
    {
     "data": {
      "text/plain": [
       "[]"
      ]
     },
     "execution_count": 2,
     "metadata": {},
     "output_type": "execute_result"
    }
   ],
   "source": [
    "%%sql\n",
    "ATTACH DATABASE 'CourseData.db' AS cd"
   ]
  },
  {
   "cell_type": "code",
   "execution_count": 4,
   "metadata": {},
   "outputs": [
    {
     "name": "stdout",
     "output_type": "stream",
     "text": [
      " * sqlite:///Course_DW.db\n",
      "(sqlite3.OperationalError) no such table: cd.PROGRAMS\n",
      "[SQL: SELECT *\n",
      "FROM cd.PROGRAMS\n",
      "LIMIT 5]\n",
      "(Background on this error at: http://sqlalche.me/e/e3q8)\n"
     ]
    }
   ],
   "source": [
    "%%sql\n",
    "SELECT *\n",
    "FROM cd.PROGRAM\n",
    "LIMIT 5"
   ]
  },
  {
   "cell_type": "code",
   "execution_count": null,
   "metadata": {},
   "outputs": [],
   "source": [
    "%%sql\n",
    "\n",
    "DROP TABLE IF EXISTS LOCATION1;\n",
    "CREATE TABLE LOCATION1 (\n",
    "    LocationID INTEGER PRIMARY KEY,\n",
    "    Location_Code TEXT,\n",
    "    Building TEXT,\n",
    "    Room TEXT\n",
    ");\n",
    "\n",
    "DROP TABLE IF EXISTS INSTRUCTOR1;\n",
    "CREATE TABLE INSTRUCTOR1 (\n",
    "    InstructorID INTEGER PRIMARY KEY,\n",
    "    InstructorName TEXT \n",
    ");\n",
    "\n",
    "DROP TABLE IF EXISTS PROGRAM1;\n",
    "CREATE TABLE PROGRAM1 (\n",
    "    ProgramID INTEGER PRIMARY KEY,\n",
    "    ProgramCode TEXT,\n",
    "    ProgramName TEXT\n",
    ");\n",
    "\n",
    "DROP TABLE IF EXISTS COURSE1;\n",
    "CREATE TABLE COURSE1 (\n",
    "    CatalogID TEXT,\n",
    "    CourseID INTEGER PRIMARY KEY,\n",
    "    ProgramID INTEGER NOT NULL,\n",
    "    CourseTitle TEXT NOT NULL,\n",
    "    Description TEXT,\n",
    "    Attributes TEXT,\n",
    "    Coreqs TEXT,\n",
    "    Prereqs TEXT,\n",
    "    Fees TEXT,\n",
    "    Credits INTEGER NOT NULL,\n",
    "    FOREIGN KEY (ProgramID) REFERENCES PROGRAM (ProgramID)\n",
    ");\n",
    "\n",
    "DROP TABLE IF EXISTS COURSE_MEETING1;\n",
    "CREATE TABLE COURSE_MEETING1 (\n",
    "    CourseMeetingID INTEGER PRIMARY KEY,\n",
    "    CatalogID TEXT,\n",
    "    Location TEXT,\n",
    "    StartDateTime TEXT,\n",
    "    EndDateTime TEXT,\n",
    "    FOREIGN KEY (Location) REFERENCES LOCATION (Location)\n",
    ");"
   ]
  },
  {
   "cell_type": "code",
   "execution_count": null,
   "metadata": {},
   "outputs": [],
   "source": [
    "%%sql\n",
    "DELETE FROM LOCATION1;\n",
    "INSERT INTO LOCATION1 (Location_Code, Building, Room)\n",
    "SELECT Location_Code, Building, Room\n",
    "FROM cd.LOCATION;"
   ]
  },
  {
   "cell_type": "code",
   "execution_count": null,
   "metadata": {},
   "outputs": [],
   "source": [
    "%%sql\n",
    "DROP TABLE IF EXISTS PROGRAM1;\n",
    "CREATE TABLE PROGRAM1 (\n",
    "    ProgramID INTEGER PRIMARY KEY,\n",
    "    ProgramCode TEXT,\n",
    "    ProgramName TEXT\n",
    ");"
   ]
  },
  {
   "cell_type": "code",
   "execution_count": null,
   "metadata": {},
   "outputs": [],
   "source": [
    "%%sql\n",
    "\n",
    "DROP TABLE IF EXISTS COURSE1;\n",
    "CREATE TABLE COURSE1 (\n",
    "    CatalogID TEXT,\n",
    "    CourseID INTEGER PRIMARY KEY,\n",
    "    ProgramID INTEGER NOT NULL,\n",
    "    CourseTitle TEXT NOT NULL,\n",
    "    Description TEXT,\n",
    "    Attributes TEXT,\n",
    "    Coreqs TEXT,\n",
    "    Prereqs TEXT,\n",
    "    Fees TEXT,\n",
    "    Credits INTEGER NOT NULL,\n",
    "    FOREIGN KEY (ProgramID) REFERENCES PROGRAM (ProgramID)\n",
    ");"
   ]
  },
  {
   "cell_type": "code",
   "execution_count": null,
   "metadata": {},
   "outputs": [],
   "source": [
    "%%sql\n",
    "\n",
    "DROP TABLE IF EXISTS COURSE_MEETING;\n",
    "CREATE TABLE COURSE_MEETING (\n",
    "    CourseMeetingID INTEGER PRIMARY KEY,\n",
    "    CatalogID TEXT,\n",
    "    Location TEXT,\n",
    "    StartDateTime TEXT,\n",
    "    EndDateTime TEXT,\n",
    "    FOREIGN KEY (Location) REFERENCES LOCATION (Location)\n",
    ");"
   ]
  },
  {
   "cell_type": "code",
   "execution_count": null,
   "metadata": {},
   "outputs": [],
   "source": []
  },
  {
   "cell_type": "code",
   "execution_count": null,
   "metadata": {},
   "outputs": [],
   "source": []
  },
  {
   "cell_type": "code",
   "execution_count": null,
   "metadata": {},
   "outputs": [],
   "source": [
    "-- Sample code\n",
    "%%sql\n",
    "DELETE FROM INSTRUCTOR1;\n",
    "INSERT INTO INSTRUCTOR1(Instructor_id, Name, Phone, Email ) \n",
    "    SELECT Instructor_id, Name, Phone, Email \n",
    "    FROM coursedata.INSTRUCTOR;"
   ]
  }
 ],
 "metadata": {
  "kernelspec": {
   "display_name": "Python 3",
   "language": "python",
   "name": "python3"
  },
  "language_info": {
   "codemirror_mode": {
    "name": "ipython",
    "version": 3
   },
   "file_extension": ".py",
   "mimetype": "text/x-python",
   "name": "python",
   "nbconvert_exporter": "python",
   "pygments_lexer": "ipython3",
   "version": "3.6.7"
  }
 },
 "nbformat": 4,
 "nbformat_minor": 4
}
