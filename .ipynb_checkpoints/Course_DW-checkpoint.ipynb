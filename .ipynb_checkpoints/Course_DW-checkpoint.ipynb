{
 "cells": [
  {
   "cell_type": "code",
   "execution_count": 1,
   "metadata": {},
   "outputs": [
    {
     "data": {
      "text/plain": [
       "'Connected: @Course_DW.db'"
      ]
     },
     "execution_count": 1,
     "metadata": {},
     "output_type": "execute_result"
    }
   ],
   "source": [
    "\n",
    "%load_ext sql\n",
    "\n",
    "import pandas as pd\n",
    "import sqlite3\n",
    "%sql sqlite:///Course_DW.db "
   ]
  },
  {
   "cell_type": "code",
   "execution_count": 2,
   "metadata": {},
   "outputs": [
    {
     "name": "stdout",
     "output_type": "stream",
     "text": [
      " * sqlite:///Course_DW.db\n",
      "Done.\n"
     ]
    },
    {
     "data": {
      "text/plain": [
       "[]"
      ]
     },
     "execution_count": 2,
     "metadata": {},
     "output_type": "execute_result"
    }
   ],
   "source": [
    "%%sql\n",
    "ATTACH DATABASE 'CourseData.db' AS cd"
   ]
  },
  {
   "cell_type": "code",
   "execution_count": 3,
   "metadata": {},
   "outputs": [
    {
     "name": "stdout",
     "output_type": "stream",
     "text": [
      " * sqlite:///Course_DW.db\n",
      "Done.\n"
     ]
    },
    {
     "data": {
      "text/html": [
       "<table>\n",
       "    <tr>\n",
       "        <th>ProgramID</th>\n",
       "        <th>ProgramCode</th>\n",
       "        <th>ProgramName</th>\n",
       "    </tr>\n",
       "    <tr>\n",
       "        <td>1</td>\n",
       "        <td>None</td>\n",
       "        <td>None</td>\n",
       "    </tr>\n",
       "    <tr>\n",
       "        <td>2</td>\n",
       "        <td>AC</td>\n",
       "        <td>Accounting</td>\n",
       "    </tr>\n",
       "    <tr>\n",
       "        <td>3</td>\n",
       "        <td>AE</td>\n",
       "        <td>Applied Ethics</td>\n",
       "    </tr>\n",
       "    <tr>\n",
       "        <td>4</td>\n",
       "        <td>AH</td>\n",
       "        <td>Art History</td>\n",
       "    </tr>\n",
       "    <tr>\n",
       "        <td>5</td>\n",
       "        <td>AN</td>\n",
       "        <td>Asian Studies</td>\n",
       "    </tr>\n",
       "</table>"
      ],
      "text/plain": [
       "[(1, None, None),\n",
       " (2, 'AC', 'Accounting'),\n",
       " (3, 'AE', 'Applied Ethics'),\n",
       " (4, 'AH', 'Art History'),\n",
       " (5, 'AN', 'Asian Studies')]"
      ]
     },
     "execution_count": 3,
     "metadata": {},
     "output_type": "execute_result"
    }
   ],
   "source": [
    "%%sql\n",
    "SELECT *\n",
    "FROM cd.PROGRAM\n",
    "LIMIT 5"
   ]
  },
  {
   "cell_type": "code",
   "execution_count": 4,
   "metadata": {},
   "outputs": [
    {
     "name": "stdout",
     "output_type": "stream",
     "text": [
      " * sqlite:///Course_DW.db\n",
      "Done.\n",
      "Done.\n",
      "Done.\n",
      "Done.\n",
      "Done.\n",
      "Done.\n",
      "Done.\n",
      "Done.\n",
      "Done.\n",
      "Done.\n"
     ]
    },
    {
     "data": {
      "text/plain": [
       "[]"
      ]
     },
     "execution_count": 4,
     "metadata": {},
     "output_type": "execute_result"
    }
   ],
   "source": [
    "%%sql\n",
    "\n",
    "DROP TABLE IF EXISTS LOCATION1;\n",
    "CREATE TABLE LOCATION1 (\n",
    "    LocationID INTEGER PRIMARY KEY,\n",
    "    Location_Code TEXT,\n",
    "    Building TEXT,\n",
    "    Room TEXT\n",
    ");\n",
    "\n",
    "DROP TABLE IF EXISTS INSTRUCTOR1;\n",
    "CREATE TABLE INSTRUCTOR1 (\n",
    "    InstructorID INTEGER PRIMARY KEY,\n",
    "    InstructorName TEXT \n",
    ");\n",
    "\n",
    "DROP TABLE IF EXISTS PROGRAM1;\n",
    "CREATE TABLE PROGRAM1 (\n",
    "    ProgramID INTEGER PRIMARY KEY,\n",
    "    ProgramCode TEXT,\n",
    "    ProgramName TEXT\n",
    ");\n",
    "\n",
    "DROP TABLE IF EXISTS COURSE1;\n",
    "CREATE TABLE COURSE1 (\n",
    "    CatalogID TEXT,\n",
    "    CourseID INTEGER PRIMARY KEY,\n",
    "    ProgramID INTEGER NOT NULL,\n",
    "    CourseTitle TEXT NOT NULL,\n",
    "    Description TEXT,\n",
    "    Attributes TEXT,\n",
    "    Coreqs TEXT,\n",
    "    Prereqs TEXT,\n",
    "    Fees TEXT,\n",
    "    Credits INTEGER NOT NULL,\n",
    "    FOREIGN KEY (ProgramID) REFERENCES PROGRAM (ProgramID)\n",
    ");\n",
    "\n",
    "DROP TABLE IF EXISTS COURSE_MEETING1;\n",
    "CREATE TABLE COURSE_MEETING1 (\n",
    "    CourseMeetingID INTEGER PRIMARY KEY,\n",
    "    CatalogID TEXT,\n",
    "    Location TEXT,\n",
    "    StartDateTime TEXT,\n",
    "    EndDateTime TEXT,\n",
    "    FOREIGN KEY (Location) REFERENCES LOCATION (Location)\n",
    ");"
   ]
  },
  {
   "cell_type": "code",
   "execution_count": 5,
   "metadata": {},
   "outputs": [
    {
     "name": "stdout",
     "output_type": "stream",
     "text": [
      " * sqlite:///Course_DW.db\n",
      "0 rows affected.\n",
      "207 rows affected.\n"
     ]
    },
    {
     "data": {
      "text/plain": [
       "[]"
      ]
     },
     "execution_count": 5,
     "metadata": {},
     "output_type": "execute_result"
    }
   ],
   "source": [
    "%%sql\n",
    "DELETE FROM LOCATION1;\n",
    "INSERT INTO LOCATION1 (Location_Code, Building, Room)\n",
    "SELECT Location_Code, Building, Room\n",
    "FROM cd.LOCATION;"
   ]
  },
  {
   "cell_type": "code",
   "execution_count": 6,
   "metadata": {},
   "outputs": [
    {
     "name": "stdout",
     "output_type": "stream",
     "text": [
      " * sqlite:///Course_DW.db\n",
      "0 rows affected.\n",
      "1048 rows affected.\n"
     ]
    },
    {
     "data": {
      "text/plain": [
       "[]"
      ]
     },
     "execution_count": 6,
     "metadata": {},
     "output_type": "execute_result"
    }
   ],
   "source": [
    "%%sql\n",
    "DELETE FROM INSTRUCTOR1;\n",
    "\n",
    "INSERT INTO INSTRUCTOR1 (InstructorName)\n",
    "SELECT DISTINCT InstructorName\n",
    "FROM cd.INSTRUCTOR;"
   ]
  },
  {
   "cell_type": "code",
   "execution_count": 7,
   "metadata": {},
   "outputs": [
    {
     "name": "stdout",
     "output_type": "stream",
     "text": [
      " * sqlite:///Course_DW.db\n",
      "0 rows affected.\n",
      "81 rows affected.\n"
     ]
    },
    {
     "data": {
      "text/plain": [
       "[]"
      ]
     },
     "execution_count": 7,
     "metadata": {},
     "output_type": "execute_result"
    }
   ],
   "source": [
    "%%sql\n",
    "DELETE FROM PROGRAM1;\n",
    "\n",
    "INSERT INTO PROGRAM1  (ProgramCode, ProgramName)\n",
    "SELECT DISTINCT ProgramCode, ProgramName\n",
    "FROM cd.PROGRAM;"
   ]
  },
  {
   "cell_type": "code",
   "execution_count": 8,
   "metadata": {},
   "outputs": [
    {
     "name": "stdout",
     "output_type": "stream",
     "text": [
      " * sqlite:///Course_DW.db\n",
      "0 rows affected.\n",
      "1972 rows affected.\n"
     ]
    },
    {
     "data": {
      "text/plain": [
       "[]"
      ]
     },
     "execution_count": 8,
     "metadata": {},
     "output_type": "execute_result"
    }
   ],
   "source": [
    "%%sql\n",
    "DELETE FROM COURSE1;\n",
    "\n",
    "INSERT INTO COURSE1 (CatalogID, ProgramID, CourseTitle, Description, Attributes, Coreqs, Prereqs, Fees, Credits)\n",
    "SELECT DISTINCT CatalogID, COURSE.ProgramID, CourseTitle, Description, Attributes, Coreqs, Prereqs, Fees, Credits\n",
    "FROM cd.COURSE"
   ]
  },
  {
   "cell_type": "code",
   "execution_count": 9,
   "metadata": {},
   "outputs": [
    {
     "name": "stdout",
     "output_type": "stream",
     "text": [
      " * sqlite:///Course_DW.db\n",
      "0 rows affected.\n",
      "280529 rows affected.\n"
     ]
    },
    {
     "data": {
      "text/plain": [
       "[]"
      ]
     },
     "execution_count": 9,
     "metadata": {},
     "output_type": "execute_result"
    }
   ],
   "source": [
    "%%sql\n",
    "DELETE FROM COURSE_MEETING1;\n",
    "\n",
    "INSERT INTO COURSE_MEETING1 (CatalogID, Location, StartDateTime, EndDateTime)\n",
    "SELECT DISTINCT CatalogID, Location, StartDateTime, EndDateTime\n",
    "FROM cd.COURSE_MEETING"
   ]
  },
  {
   "cell_type": "code",
   "execution_count": 10,
   "metadata": {},
   "outputs": [
    {
     "name": "stdout",
     "output_type": "stream",
     "text": [
      " * sqlite:///Course_DW.db\n",
      "Done.\n",
      "Done.\n"
     ]
    },
    {
     "data": {
      "text/plain": [
       "[]"
      ]
     },
     "execution_count": 10,
     "metadata": {},
     "output_type": "execute_result"
    }
   ],
   "source": [
    "%%sql\n",
    "--FACT TABLE\n",
    "\n",
    "DROP TABLE IF EXISTS COURSE_FACTS;\n",
    "CREATE TABLE COURSE_FACTS (\n",
    "    CourseOfferingID INTEGER PRIMARY KEY,\n",
    "    CatalogID TEXT NOT NULL,\n",
    "    CourseTitle TEXT NOT NULL,\n",
    "    InstructorName TEXT NOT NULL,\n",
    "    Section TEXT, \n",
    "    Meetings TEXT NOT NULL,\n",
    "    Timecodes TEXT NOT NULL,\n",
    "    Term TEXT NOT NULL,\n",
    "    StartDay TEXT NOT NULL,\n",
    "    End TEXT NOT NULL,    \n",
    "    Cap INTEGER NOT NULL,\n",
    "    Act INTEGER NOT NULL,\n",
    "    Rem INTEGER NOT NULL,\n",
    "    FOREIGN KEY (CatalogID) REFERENCES COURSE_MEETING1 (CatalogID)\n",
    "    FOREIGN KEY (InstructorName) REFERENCES INSTRUCTOR1 \n",
    "    (InstructorName)\n",
    "    FOREIGN KEY (CourseTitle) REFERENCES COURSE1 (CourseTitle)\n",
    ");\n",
    "\n"
   ]
  },
  {
   "cell_type": "code",
   "execution_count": null,
   "metadata": {},
   "outputs": [],
   "source": [
    "%%sql\n",
    "-- DELETE FROM COURSE_FACTS;\n",
    "\n",
    "-- INSERT INTO COURSE_FACTS (CatalogID, CourseTitle, InstructorName, Section, Meetings, TimeCodes, Term, StartDay, End, Cap, Act, Rem)\n",
    "-- SELECT DISTINCT COURSE1.CatalogID, COURSE1.CourseTitle, InstructorName, Section, Meetings, TimeCodes, Term, StartDay, End, Cap, Act, Rem\n",
    "-- FROM cd.COURSE_OFFERING\n",
    "     -- JOIN COURSE_MEETING1 ON (cd.COURSE_MEETING1.CatalogID = cd.CatalogID)\n",
    "     -- JOIN INSTRUCTOR1 ON (cd.INSTRUCTOR1.InstructorName = cd.InstructorName)\n",
    "     -- LEFT JOIN COURSE1 ON (COURSE1.CatalogID = cd.COURSE.CatalogID)"
   ]
  },
  {
   "cell_type": "code",
   "execution_count": 16,
   "metadata": {},
   "outputs": [
    {
     "name": "stdout",
     "output_type": "stream",
     "text": [
      " * sqlite:///Course_DW.db\n",
      "0 rows affected.\n",
      "283781 rows affected.\n"
     ]
    },
    {
     "data": {
      "text/plain": [
       "[]"
      ]
     },
     "execution_count": 16,
     "metadata": {},
     "output_type": "execute_result"
    }
   ],
   "source": [
    "%%sql\n",
    "DELETE FROM COURSE_FACTS;\n",
    "\n",
    "INSERT INTO COURSE_FACTS (CatalogID, CourseTitle, InstructorName, Section, Meetings, TimeCodes, Term, StartDay, End, Cap, Act, Rem)\n",
    "SELECT DISTINCT CatalogID, CourseTitle, InstructorName, Section, Meetings, TimeCodes, Term, StartDay, End, Cap, Act, Rem\n",
    "FROM cd.COURSE_OFFERING\n",
    "        JOIN COURSE_MEETING1 USING (CatalogID)\n",
    "     -- JOIN INSTRUCTOR1 ON (cd.INSTRUCTOR1.InstructorName = cd.InstructorName)\n",
    "     -- LEFT JOIN COURSE1 ON (COURSE1.CatalogID = cd.COURSE.CatalogID)"
   ]
  },
  {
   "cell_type": "code",
   "execution_count": 29,
   "metadata": {},
   "outputs": [
    {
     "name": "stdout",
     "output_type": "stream",
     "text": [
      " * sqlite:///Course_DW.db\n",
      "0 rows affected.\n",
      "(sqlite3.OperationalError) no such column: cd.COURSE_MEETING.CatalogID\n",
      "[SQL: INSERT INTO COURSE_FACTS (CatalogID, CourseTitle, InstructorName, Section, Meetings, TimeCodes, Term, StartDay, End, Cap, Act, Rem)\n",
      "    SELECT DISTINCT cd.COURSE_MEETING.CatalogID, cd.COURSE.CourseTitle, cd.INSTRUCTOR.InstructorName, Section, Meetings, TimeCodes, Term, StartDay, End, Cap, Act, Rem\n",
      "FROM cd.COURSE_OFFERING\n",
      "        JOIN COURSE_MEETING1 USING (CatalogID)\n",
      "        JOIN INSTRUCTOR1 USING (InstructorName)\n",
      "        JOIN COURSE1 ON (COURSE1.CatalogID = cd.COURSE.CatalogID)]\n",
      "(Background on this error at: http://sqlalche.me/e/e3q8)\n"
     ]
    }
   ],
   "source": [
    "%%sql\n",
    "DELETE FROM COURSE_FACTS;\n",
    "INSERT INTO COURSE_FACTS (CatalogID, CourseTitle, InstructorName, Section, Meetings, TimeCodes, Term, StartDay, End, Cap, Act, Rem)\n",
    "    SELECT DISTINCT cd.COURSE_MEETING.CatalogID, cd.COURSE.CourseTitle, cd.INSTRUCTOR.InstructorName, Section, Meetings, TimeCodes, Term, StartDay, End, Cap, Act, Rem\n",
    "FROM cd.COURSE_OFFERING\n",
    "        JOIN COURSE_MEETING1 USING (CatalogID)\n",
    "        JOIN INSTRUCTOR1 USING (InstructorName)\n",
    "        JOIN COURSE1 ON (COURSE1.CatalogID = cd.COURSE.CatalogID)"
   ]
  },
  {
   "cell_type": "code",
   "execution_count": 18,
   "metadata": {},
   "outputs": [
    {
     "name": "stdout",
     "output_type": "stream",
     "text": [
      " * sqlite:///Course_DW.db\n",
      "Done.\n"
     ]
    },
    {
     "data": {
      "text/html": [
       "<table>\n",
       "    <tr>\n",
       "        <th>CourseOfferingID</th>\n",
       "        <th>CatalogID</th>\n",
       "        <th>CourseTitle</th>\n",
       "        <th>InstructorName</th>\n",
       "        <th>Section</th>\n",
       "        <th>Meetings</th>\n",
       "        <th>Timecodes</th>\n",
       "        <th>Term</th>\n",
       "        <th>StartDay</th>\n",
       "        <th>End</th>\n",
       "        <th>Cap</th>\n",
       "        <th>Act</th>\n",
       "        <th>Rem</th>\n",
       "    </tr>\n",
       "    <tr>\n",
       "        <td>1</td>\n",
       "        <td>AC 0011</td>\n",
       "        <td>Introduction to Financial Accounting</td>\n",
       "        <td>Michael P.  Coyne</td>\n",
       "        <td>C01</td>\n",
       "        <td>[{&#x27;days&#x27;: &#x27;TF&#x27;, &#x27;times&#x27;: &#x27;0800am-0915am&#x27;, &#x27;dates&#x27;: &#x27;09/02-12/08&#x27;, &#x27;location&#x27;: &#x27;DSB 105&#x27;}]</td>\n",
       "        <td>[&#x27;TF 0800am-0915am 09/02-12/08 DSB 105&#x27;]</td>\n",
       "        <td>Fall2014</td>\n",
       "        <td>2014-09-02T08:00:00</td>\n",
       "        <td>2014-09-02T09:15:00</td>\n",
       "        <td>0</td>\n",
       "        <td>31</td>\n",
       "        <td>-31</td>\n",
       "    </tr>\n",
       "    <tr>\n",
       "        <td>2</td>\n",
       "        <td>AC 0011</td>\n",
       "        <td>Introduction to Financial Accounting</td>\n",
       "        <td>Michael P.  Coyne</td>\n",
       "        <td>C01</td>\n",
       "        <td>[{&#x27;days&#x27;: &#x27;TF&#x27;, &#x27;times&#x27;: &#x27;0800am-0915am&#x27;, &#x27;dates&#x27;: &#x27;09/02-12/08&#x27;, &#x27;location&#x27;: &#x27;DSB 105&#x27;}]</td>\n",
       "        <td>[&#x27;TF 0800am-0915am 09/02-12/08 DSB 105&#x27;]</td>\n",
       "        <td>Fall2014</td>\n",
       "        <td>2014-09-05T08:00:00</td>\n",
       "        <td>2014-09-05T09:15:00</td>\n",
       "        <td>0</td>\n",
       "        <td>31</td>\n",
       "        <td>-31</td>\n",
       "    </tr>\n",
       "    <tr>\n",
       "        <td>3</td>\n",
       "        <td>AC 0011</td>\n",
       "        <td>Introduction to Financial Accounting</td>\n",
       "        <td>Michael P.  Coyne</td>\n",
       "        <td>C01</td>\n",
       "        <td>[{&#x27;days&#x27;: &#x27;TF&#x27;, &#x27;times&#x27;: &#x27;0800am-0915am&#x27;, &#x27;dates&#x27;: &#x27;09/02-12/08&#x27;, &#x27;location&#x27;: &#x27;DSB 105&#x27;}]</td>\n",
       "        <td>[&#x27;TF 0800am-0915am 09/02-12/08 DSB 105&#x27;]</td>\n",
       "        <td>Fall2014</td>\n",
       "        <td>2014-09-09T08:00:00</td>\n",
       "        <td>2014-09-09T09:15:00</td>\n",
       "        <td>0</td>\n",
       "        <td>31</td>\n",
       "        <td>-31</td>\n",
       "    </tr>\n",
       "    <tr>\n",
       "        <td>4</td>\n",
       "        <td>AC 0011</td>\n",
       "        <td>Introduction to Financial Accounting</td>\n",
       "        <td>Michael P.  Coyne</td>\n",
       "        <td>C01</td>\n",
       "        <td>[{&#x27;days&#x27;: &#x27;TF&#x27;, &#x27;times&#x27;: &#x27;0800am-0915am&#x27;, &#x27;dates&#x27;: &#x27;09/02-12/08&#x27;, &#x27;location&#x27;: &#x27;DSB 105&#x27;}]</td>\n",
       "        <td>[&#x27;TF 0800am-0915am 09/02-12/08 DSB 105&#x27;]</td>\n",
       "        <td>Fall2014</td>\n",
       "        <td>2014-09-12T08:00:00</td>\n",
       "        <td>2014-09-12T09:15:00</td>\n",
       "        <td>0</td>\n",
       "        <td>31</td>\n",
       "        <td>-31</td>\n",
       "    </tr>\n",
       "    <tr>\n",
       "        <td>5</td>\n",
       "        <td>AC 0011</td>\n",
       "        <td>Introduction to Financial Accounting</td>\n",
       "        <td>Michael P.  Coyne</td>\n",
       "        <td>C01</td>\n",
       "        <td>[{&#x27;days&#x27;: &#x27;TF&#x27;, &#x27;times&#x27;: &#x27;0800am-0915am&#x27;, &#x27;dates&#x27;: &#x27;09/02-12/08&#x27;, &#x27;location&#x27;: &#x27;DSB 105&#x27;}]</td>\n",
       "        <td>[&#x27;TF 0800am-0915am 09/02-12/08 DSB 105&#x27;]</td>\n",
       "        <td>Fall2014</td>\n",
       "        <td>2014-09-16T08:00:00</td>\n",
       "        <td>2014-09-16T09:15:00</td>\n",
       "        <td>0</td>\n",
       "        <td>31</td>\n",
       "        <td>-31</td>\n",
       "    </tr>\n",
       "</table>"
      ],
      "text/plain": [
       "[(1, 'AC 0011', 'Introduction to Financial Accounting', 'Michael P.  Coyne', 'C01', \"[{'days': 'TF', 'times': '0800am-0915am', 'dates': '09/02-12/08', 'location': 'DSB 105'}]\", \"['TF 0800am-0915am 09/02-12/08 DSB 105']\", 'Fall2014', '2014-09-02T08:00:00', '2014-09-02T09:15:00', 0, 31, -31),\n",
       " (2, 'AC 0011', 'Introduction to Financial Accounting', 'Michael P.  Coyne', 'C01', \"[{'days': 'TF', 'times': '0800am-0915am', 'dates': '09/02-12/08', 'location': 'DSB 105'}]\", \"['TF 0800am-0915am 09/02-12/08 DSB 105']\", 'Fall2014', '2014-09-05T08:00:00', '2014-09-05T09:15:00', 0, 31, -31),\n",
       " (3, 'AC 0011', 'Introduction to Financial Accounting', 'Michael P.  Coyne', 'C01', \"[{'days': 'TF', 'times': '0800am-0915am', 'dates': '09/02-12/08', 'location': 'DSB 105'}]\", \"['TF 0800am-0915am 09/02-12/08 DSB 105']\", 'Fall2014', '2014-09-09T08:00:00', '2014-09-09T09:15:00', 0, 31, -31),\n",
       " (4, 'AC 0011', 'Introduction to Financial Accounting', 'Michael P.  Coyne', 'C01', \"[{'days': 'TF', 'times': '0800am-0915am', 'dates': '09/02-12/08', 'location': 'DSB 105'}]\", \"['TF 0800am-0915am 09/02-12/08 DSB 105']\", 'Fall2014', '2014-09-12T08:00:00', '2014-09-12T09:15:00', 0, 31, -31),\n",
       " (5, 'AC 0011', 'Introduction to Financial Accounting', 'Michael P.  Coyne', 'C01', \"[{'days': 'TF', 'times': '0800am-0915am', 'dates': '09/02-12/08', 'location': 'DSB 105'}]\", \"['TF 0800am-0915am 09/02-12/08 DSB 105']\", 'Fall2014', '2014-09-16T08:00:00', '2014-09-16T09:15:00', 0, 31, -31)]"
      ]
     },
     "execution_count": 18,
     "metadata": {},
     "output_type": "execute_result"
    }
   ],
   "source": [
    "%%sql\n",
    "\n",
    "SELECT *\n",
    "FROM COURSE_FACTS\n",
    "LIMIT 5;\n"
   ]
  },
  {
   "cell_type": "code",
   "execution_count": 37,
   "metadata": {},
   "outputs": [
    {
     "name": "stdout",
     "output_type": "stream",
     "text": [
      " * sqlite:///Course_DW.db\n",
      "Done.\n"
     ]
    },
    {
     "data": {
      "text/html": [
       "<table>\n",
       "    <tr>\n",
       "        <th>Locations</th>\n",
       "        <th>Instructors</th>\n",
       "        <th>Programs</th>\n",
       "        <th>Courses</th>\n",
       "        <th>Course_Meetings</th>\n",
       "    </tr>\n",
       "    <tr>\n",
       "        <td>207</td>\n",
       "        <td>1048</td>\n",
       "        <td>81</td>\n",
       "        <td>1972</td>\n",
       "        <td>280529</td>\n",
       "    </tr>\n",
       "</table>"
      ],
      "text/plain": [
       "[(207, 1048, 81, 1972, 280529)]"
      ]
     },
     "execution_count": 37,
     "metadata": {},
     "output_type": "execute_result"
    }
   ],
   "source": [
    "%%sql\n",
    "\n",
    "SELECT \n",
    "    (SELECT Count(*) FROM LOCATION1) as Locations,\n",
    "    (SELECT Count(*) FROM INSTRUCTOR1) as Instructors,\n",
    "    (SELECT Count(*) FROM PROGRAM1) as Programs,\n",
    "    (SELECT Count(*) FROM COURSE1) as Courses,\n",
    "    (SELECT Count(*) FROM COURSE_MEETING1) as Course_Meetings\n",
    "    ;"
   ]
  },
  {
   "cell_type": "code",
   "execution_count": 38,
   "metadata": {},
   "outputs": [
    {
     "name": "stdout",
     "output_type": "stream",
     "text": [
      " * sqlite:///Course_DW.db\n",
      "Done.\n"
     ]
    },
    {
     "data": {
      "text/plain": [
       "[]"
      ]
     },
     "execution_count": 38,
     "metadata": {},
     "output_type": "execute_result"
    }
   ],
   "source": [
    "%%sql\n",
    "vacuum;"
   ]
  },
  {
   "cell_type": "code",
   "execution_count": null,
   "metadata": {},
   "outputs": [],
   "source": []
  }
 ],
 "metadata": {
  "kernelspec": {
   "display_name": "Python 3",
   "language": "python",
   "name": "python3"
  },
  "language_info": {
   "codemirror_mode": {
    "name": "ipython",
    "version": 3
   },
   "file_extension": ".py",
   "mimetype": "text/x-python",
   "name": "python",
   "nbconvert_exporter": "python",
   "pygments_lexer": "ipython3",
   "version": "3.6.7"
  }
 },
 "nbformat": 4,
 "nbformat_minor": 4
}
